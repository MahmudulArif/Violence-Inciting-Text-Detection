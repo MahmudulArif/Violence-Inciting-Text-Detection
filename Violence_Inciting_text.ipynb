{
  "metadata": {
    "kernelspec": {
      "language": "python",
      "display_name": "Python 3",
      "name": "python3"
    },
    "language_info": {
      "name": "python",
      "version": "3.10.12",
      "mimetype": "text/x-python",
      "codemirror_mode": {
        "name": "ipython",
        "version": 3
      },
      "pygments_lexer": "ipython3",
      "nbconvert_exporter": "python",
      "file_extension": ".py"
    },
    "kaggle": {
      "accelerator": "nvidiaTeslaT4",
      "dataSources": [
        {
          "sourceId": 10707776,
          "sourceType": "datasetVersion",
          "datasetId": 6636164
        },
        {
          "sourceId": 10723197,
          "sourceType": "datasetVersion",
          "datasetId": 6647348
        },
        {
          "sourceId": 10723278,
          "sourceType": "datasetVersion",
          "datasetId": 6647410
        },
        {
          "sourceId": 10723461,
          "sourceType": "datasetVersion",
          "datasetId": 6647550
        }
      ],
      "dockerImageVersionId": 30887,
      "isInternetEnabled": true,
      "language": "python",
      "sourceType": "notebook",
      "isGpuEnabled": true
    },
    "colab": {
      "name": "Violence Inciting text",
      "provenance": []
    }
  },
  "nbformat_minor": 0,
  "nbformat": 4,
  "cells": [
    {
      "source": [
        "# IMPORTANT: SOME KAGGLE DATA SOURCES ARE PRIVATE\n",
        "# RUN THIS CELL IN ORDER TO IMPORT YOUR KAGGLE DATA SOURCES.\n",
        "import kagglehub\n",
        "kagglehub.login()\n"
      ],
      "metadata": {
        "id": "ZqgnjvIVmU87"
      },
      "cell_type": "code",
      "outputs": [],
      "execution_count": null
    },
    {
      "source": [
        "# IMPORTANT: RUN THIS CELL IN ORDER TO IMPORT YOUR KAGGLE DATA SOURCES,\n",
        "# THEN FEEL FREE TO DELETE THIS CELL.\n",
        "# NOTE: THIS NOTEBOOK ENVIRONMENT DIFFERS FROM KAGGLE'S PYTHON\n",
        "# ENVIRONMENT SO THERE MAY BE MISSING LIBRARIES USED BY YOUR\n",
        "# NOTEBOOK.\n",
        "\n",
        "arifkaggle979_violencetext_path = kagglehub.dataset_download('arifkaggle979/violencetext')\n",
        "arifkaggle979_violence_modified_path = kagglehub.dataset_download('arifkaggle979/violence-modified')\n",
        "arifkaggle979_modified_path = kagglehub.dataset_download('arifkaggle979/modified')\n",
        "arifkaggle979_mofied2_path = kagglehub.dataset_download('arifkaggle979/mofied2')\n",
        "\n",
        "print('Data source import complete.')\n"
      ],
      "metadata": {
        "id": "s1-q4WMUmU8_"
      },
      "cell_type": "code",
      "outputs": [],
      "execution_count": null
    },
    {
      "cell_type": "code",
      "source": [],
      "metadata": {
        "_uuid": "8f2839f25d086af736a60e9eeb907d3b93b6e0e5",
        "_cell_guid": "b1076dfc-b9ad-4769-8c92-a6c4dae69d19",
        "trusted": true,
        "id": "3VW-WslumU9A"
      },
      "outputs": [],
      "execution_count": null
    },
    {
      "cell_type": "code",
      "source": [
        "pip install torch transformers pandas numpy sklearn tqdm\n"
      ],
      "metadata": {
        "trusted": true,
        "execution": {
          "iopub.status.busy": "2025-02-10T02:51:31.119895Z",
          "iopub.execute_input": "2025-02-10T02:51:31.120074Z",
          "iopub.status.idle": "2025-02-10T02:51:32.749923Z",
          "shell.execute_reply.started": "2025-02-10T02:51:31.120056Z",
          "shell.execute_reply": "2025-02-10T02:51:32.748845Z"
        },
        "id": "LYaNYQIemU9B",
        "outputId": "59cf8da0-5ca7-4860-b409-8cf68cef7dee"
      },
      "outputs": [
        {
          "name": "stdout",
          "text": "Requirement already satisfied: torch in /usr/local/lib/python3.10/dist-packages (2.5.1+cu121)\nRequirement already satisfied: transformers in /usr/local/lib/python3.10/dist-packages (4.47.0)\nRequirement already satisfied: pandas in /usr/local/lib/python3.10/dist-packages (2.2.3)\nRequirement already satisfied: numpy in /usr/local/lib/python3.10/dist-packages (1.26.4)\nCollecting sklearn\n  Downloading sklearn-0.0.post12.tar.gz (2.6 kB)\n  \u001b[1;31merror\u001b[0m: \u001b[1msubprocess-exited-with-error\u001b[0m\n  \n  \u001b[31m×\u001b[0m \u001b[32mpython setup.py egg_info\u001b[0m did not run successfully.\n  \u001b[31m│\u001b[0m exit code: \u001b[1;36m1\u001b[0m\n  \u001b[31m╰─>\u001b[0m See above for output.\n  \n  \u001b[1;35mnote\u001b[0m: This error originates from a subprocess, and is likely not a problem with pip.\n  Preparing metadata (setup.py) ... \u001b[?25l\u001b[?25herror\n\u001b[1;31merror\u001b[0m: \u001b[1mmetadata-generation-failed\u001b[0m\n\n\u001b[31m×\u001b[0m Encountered error while generating package metadata.\n\u001b[31m╰─>\u001b[0m See above for output.\n\n\u001b[1;35mnote\u001b[0m: This is an issue with the package mentioned above, not pip.\n\u001b[1;36mhint\u001b[0m: See above for details.\nNote: you may need to restart the kernel to use updated packages.\n",
          "output_type": "stream"
        }
      ],
      "execution_count": null
    },
    {
      "cell_type": "markdown",
      "source": [
        "# Main code with BanglaBERT+Capsule Network"
      ],
      "metadata": {
        "id": "A7ooO6tWmU9C"
      }
    },
    {
      "cell_type": "code",
      "source": [
        "import torch\n",
        "import torch.nn as nn\n",
        "import torch.optim as optim\n",
        "import pandas as pd\n",
        "import numpy as np\n",
        "import re\n",
        "from torch.utils.data import Dataset, DataLoader\n",
        "from transformers import AutoTokenizer, AutoModel\n",
        "from tqdm import tqdm\n",
        "from sklearn.metrics import accuracy_score, classification_report\n",
        "from imblearn.over_sampling import RandomOverSampler  # Import RandomOverSampler\n",
        "import unicodedata\n",
        "\n",
        "# Load BanglaBERT Tokenizer\n",
        "tokenizer = AutoTokenizer.from_pretrained(\"csebuetnlp/banglabert\")\n",
        "\n",
        "# Load Dataset\n",
        "def load_data(file_path):\n",
        "    df = pd.read_csv(file_path)\n",
        "    df = df[['text', 'label']]\n",
        "    return df\n",
        "\n",
        "train_df = load_data(\"/kaggle/input/violencetext/train.csv\")\n",
        "dev_df = load_data(\"/kaggle/input/violencetext/dev.csv\")\n",
        "test_df = load_data(\"/kaggle/input/violencetext/test.csv\")\n",
        "\n",
        "# **Step 1: Apply Random Oversampling to Balance the Datasets**\n",
        "def oversample_dataset(df):\n",
        "    ros = RandomOverSampler(random_state=42)\n",
        "    texts, labels = df[\"text\"].values, df[\"label\"].values\n",
        "    texts_resampled, labels_resampled = ros.fit_resample(texts.reshape(-1, 1), labels)\n",
        "\n",
        "    balanced_df = pd.DataFrame({\"text\": texts_resampled.flatten(), \"label\": labels_resampled})\n",
        "    return balanced_df\n",
        "\n",
        "train_df = oversample_dataset(train_df)\n",
        "dev_df = oversample_dataset(dev_df)\n",
        "test_df = oversample_dataset(test_df)\n",
        "\n",
        "# **Step 2: Preprocessing Function**\n",
        "def preprocess_text(text):\n",
        "    text = unicodedata.normalize('NFKC', text)  # Normalize Unicode text\n",
        "    text = re.sub(r'[০-৯]', '[NUMBER]', text)  # Replace Bangla numbers\n",
        "    text = re.sub(r'http\\S+|www\\S+', '[URL]', text)  # Replace URLs\n",
        "    text = re.sub(r'[^\\u0980-\\u09FF\\s]', '', text)  # Remove non-Bangla characters\n",
        "    text = re.sub(r'\\s+', ' ', text).strip()  # Normalize whitespace\n",
        "    return text\n",
        "\n",
        "train_df[\"text\"] = train_df[\"text\"].apply(preprocess_text)\n",
        "dev_df[\"text\"] = dev_df[\"text\"].apply(preprocess_text)\n",
        "test_df[\"text\"] = test_df[\"text\"].apply(preprocess_text)\n",
        "\n",
        "# **Step 3: Define Dataset Class**\n",
        "class TextDataset(Dataset):\n",
        "    def __init__(self, texts, labels, tokenizer, max_length=70):\n",
        "        self.texts = texts\n",
        "        self.labels = labels\n",
        "        self.tokenizer = tokenizer\n",
        "        self.max_length = max_length\n",
        "\n",
        "    def __len__(self):\n",
        "        return len(self.texts)\n",
        "\n",
        "    def __getitem__(self, idx):\n",
        "        text = self.texts[idx]\n",
        "        label = self.labels[idx]\n",
        "\n",
        "        encoding = self.tokenizer(\n",
        "            text,\n",
        "            padding=\"max_length\",\n",
        "            truncation=True,\n",
        "            max_length=self.max_length,\n",
        "            return_tensors=\"pt\"\n",
        "        )\n",
        "\n",
        "        return {\n",
        "            \"input_ids\": encoding[\"input_ids\"].squeeze(0),\n",
        "            \"attention_mask\": encoding[\"attention_mask\"].squeeze(0),\n",
        "            \"label\": torch.tensor(label, dtype=torch.long)\n",
        "        }\n",
        "\n",
        "# Prepare datasets\n",
        "train_dataset = TextDataset(train_df[\"text\"].tolist(), train_df[\"label\"].tolist(), tokenizer)\n",
        "dev_dataset = TextDataset(dev_df[\"text\"].tolist(), dev_df[\"label\"].tolist(), tokenizer)\n",
        "test_dataset = TextDataset(test_df[\"text\"].tolist(), test_df[\"label\"].tolist(), tokenizer)\n",
        "\n",
        "# Create DataLoaders\n",
        "batch_size = 32\n",
        "train_loader = DataLoader(train_dataset, batch_size=batch_size, shuffle=True)\n",
        "dev_loader = DataLoader(dev_dataset, batch_size=batch_size, shuffle=False)\n",
        "test_loader = DataLoader(test_dataset, batch_size=batch_size, shuffle=False)\n",
        "\n",
        "# **Step 4: Capsule Network Layer**\n",
        "class CapsuleLayer(nn.Module):\n",
        "    def __init__(self, num_capsules, input_dim, output_dim, routing_iterations=3):\n",
        "        super(CapsuleLayer, self).__init__()\n",
        "        self.num_capsules = num_capsules\n",
        "        self.input_dim = input_dim\n",
        "        self.output_dim = output_dim\n",
        "        self.routing_iterations = routing_iterations\n",
        "        self.weights = nn.Parameter(torch.randn(num_capsules, input_dim, output_dim))\n",
        "\n",
        "    def forward(self, x):\n",
        "        x = x.unsqueeze(1).expand(-1, self.num_capsules, -1, -1)\n",
        "        u_hat = torch.matmul(x, self.weights)\n",
        "\n",
        "        b_ij = torch.zeros(u_hat.shape[0], self.num_capsules, u_hat.shape[2]).to(x.device)\n",
        "\n",
        "        for _ in range(self.routing_iterations):\n",
        "            c_ij = torch.nn.functional.softmax(b_ij, dim=1)\n",
        "            s_j = (c_ij.unsqueeze(-1) * u_hat).sum(dim=2)\n",
        "            v_j = self.squash(s_j)\n",
        "            b_ij = b_ij + (u_hat * v_j.unsqueeze(2)).sum(dim=-1)\n",
        "\n",
        "        return v_j\n",
        "\n",
        "    @staticmethod\n",
        "    def squash(tensor):\n",
        "        norm = (tensor ** 2).sum(dim=-1, keepdim=True)\n",
        "        scale = norm / (1 + norm)\n",
        "        return scale * tensor / torch.sqrt(norm + 1e-8)\n",
        "\n",
        "# **Step 5: Define CAPTAIN Model**\n",
        "class CAPTAINModel(nn.Module):\n",
        "    def __init__(self, num_classes=3):\n",
        "        super(CAPTAINModel, self).__init__()\n",
        "        self.bert = AutoModel.from_pretrained(\"csebuetnlp/banglabert\")\n",
        "        self.capsule = CapsuleLayer(num_capsules=8, input_dim=768, output_dim=16)\n",
        "        self.flatten = nn.Flatten()\n",
        "        self.fc1 = nn.Linear(8 * 16, 128)\n",
        "        self.fc2 = nn.Linear(128, num_classes)\n",
        "        self.batch_norm = nn.BatchNorm1d(128)\n",
        "        self.dropout = nn.Dropout(0.5)\n",
        "\n",
        "    def forward(self, input_ids, attention_mask):\n",
        "        bert_output = self.bert(input_ids=input_ids, attention_mask=attention_mask).last_hidden_state\n",
        "        caps_output = self.capsule(bert_output)\n",
        "        flat_output = self.flatten(caps_output)\n",
        "        x = self.batch_norm(torch.relu(self.fc1(flat_output)))\n",
        "        x = self.dropout(x)\n",
        "        logits = self.fc2(x)\n",
        "        return torch.nn.functional.log_softmax(logits, dim=1)\n",
        "\n",
        "# **Step 6: Training Setup**\n",
        "device = torch.device(\"cuda\" if torch.cuda.is_available() else \"cpu\")\n",
        "model = CAPTAINModel().to(device)\n",
        "\n",
        "optimizer = optim.AdamW(model.parameters(), lr=3e-5, weight_decay=1e-4)\n",
        "criterion = nn.CrossEntropyLoss()\n",
        "scheduler = torch.optim.lr_scheduler.StepLR(optimizer, step_size=5, gamma=0.7)\n",
        "\n",
        "# **Step 7: Training Loop**\n",
        "epochs = 30\n",
        "for epoch in range(epochs):\n",
        "    model.train()\n",
        "    total_loss, correct, total = 0, 0, 0\n",
        "\n",
        "    for batch in tqdm(train_loader, desc=f\"Epoch {epoch+1}/{epochs}\", leave=False):\n",
        "        input_ids, attention_mask, labels = batch[\"input_ids\"].to(device), batch[\"attention_mask\"].to(device), batch[\"label\"].to(device)\n",
        "\n",
        "        optimizer.zero_grad()\n",
        "        outputs = model(input_ids, attention_mask)\n",
        "\n",
        "        loss = criterion(outputs, labels)\n",
        "        loss.backward()\n",
        "        torch.nn.utils.clip_grad_norm_(model.parameters(), 1.0)\n",
        "        optimizer.step()\n",
        "\n",
        "        total_loss += loss.item()\n",
        "        correct += (outputs.argmax(1) == labels).sum().item()\n",
        "        total += labels.size(0)\n",
        "\n",
        "    scheduler.step()\n",
        "    print(f\"Epoch {epoch+1} Loss: {total_loss:.4f}, Accuracy: {correct/total:.4f}\")\n",
        "\n",
        "# **Step 8: Model Evaluation**\n",
        "model.eval()\n",
        "predictions, true_labels = [], []\n",
        "with torch.no_grad():\n",
        "    for batch in test_loader:\n",
        "        input_ids, attention_mask, labels = batch[\"input_ids\"].to(device), batch[\"attention_mask\"].to(device), batch[\"label\"].to(device)\n",
        "\n",
        "        outputs = model(input_ids, attention_mask)\n",
        "        preds = torch.argmax(outputs, dim=1).cpu().numpy()\n",
        "        labels = labels.cpu().numpy()\n",
        "\n",
        "        predictions.extend(preds)\n",
        "        true_labels.extend(labels)\n",
        "\n",
        "# **Print Classification Report with 4-digit Precision**\n",
        "print(\"Classification Report:\")\n",
        "print(classification_report(true_labels, predictions, digits=4))\n"
      ],
      "metadata": {
        "trusted": true,
        "execution": {
          "iopub.status.busy": "2025-02-10T10:51:03.987398Z",
          "iopub.execute_input": "2025-02-10T10:51:03.987765Z",
          "iopub.status.idle": "2025-02-10T11:21:31.770262Z",
          "shell.execute_reply.started": "2025-02-10T10:51:03.987735Z",
          "shell.execute_reply": "2025-02-10T11:21:31.769412Z"
        },
        "id": "OjF1OtIMmU9D",
        "outputId": "cbdebe76-322e-49d0-b89b-c924b4080bf6"
      },
      "outputs": [
        {
          "name": "stderr",
          "text": "                                                             \r",
          "output_type": "stream"
        },
        {
          "name": "stdout",
          "text": "Epoch 1 Loss: 132.5950, Accuracy: 0.4826\n",
          "output_type": "stream"
        },
        {
          "name": "stderr",
          "text": "                                                             \r",
          "output_type": "stream"
        },
        {
          "name": "stdout",
          "text": "Epoch 2 Loss: 61.7987, Accuracy: 0.8229\n",
          "output_type": "stream"
        },
        {
          "name": "stderr",
          "text": "                                                             \r",
          "output_type": "stream"
        },
        {
          "name": "stdout",
          "text": "Epoch 3 Loss: 33.7290, Accuracy: 0.9174\n",
          "output_type": "stream"
        },
        {
          "name": "stderr",
          "text": "                                                             \r",
          "output_type": "stream"
        },
        {
          "name": "stdout",
          "text": "Epoch 4 Loss: 17.8525, Accuracy: 0.9604\n",
          "output_type": "stream"
        },
        {
          "name": "stderr",
          "text": "                                                             \r",
          "output_type": "stream"
        },
        {
          "name": "stdout",
          "text": "Epoch 5 Loss: 10.3786, Accuracy: 0.9810\n",
          "output_type": "stream"
        },
        {
          "name": "stderr",
          "text": "                                                             \r",
          "output_type": "stream"
        },
        {
          "name": "stdout",
          "text": "Epoch 6 Loss: 7.0204, Accuracy: 0.9909\n",
          "output_type": "stream"
        },
        {
          "name": "stderr",
          "text": "                                                             \r",
          "output_type": "stream"
        },
        {
          "name": "stdout",
          "text": "Epoch 7 Loss: 3.6833, Accuracy: 0.9964\n",
          "output_type": "stream"
        },
        {
          "name": "stderr",
          "text": "                                                             \r",
          "output_type": "stream"
        },
        {
          "name": "stdout",
          "text": "Epoch 8 Loss: 3.4092, Accuracy: 0.9959\n",
          "output_type": "stream"
        },
        {
          "name": "stderr",
          "text": "                                                             \r",
          "output_type": "stream"
        },
        {
          "name": "stdout",
          "text": "Epoch 9 Loss: 2.6059, Accuracy: 0.9976\n",
          "output_type": "stream"
        },
        {
          "name": "stderr",
          "text": "                                                              \r",
          "output_type": "stream"
        },
        {
          "name": "stdout",
          "text": "Epoch 10 Loss: 2.0346, Accuracy: 0.9976\n",
          "output_type": "stream"
        },
        {
          "name": "stderr",
          "text": "                                                              \r",
          "output_type": "stream"
        },
        {
          "name": "stdout",
          "text": "Epoch 11 Loss: 2.3397, Accuracy: 0.9964\n",
          "output_type": "stream"
        },
        {
          "name": "stderr",
          "text": "                                                              \r",
          "output_type": "stream"
        },
        {
          "name": "stdout",
          "text": "Epoch 12 Loss: 1.3269, Accuracy: 0.9978\n",
          "output_type": "stream"
        },
        {
          "name": "stderr",
          "text": "                                                              \r",
          "output_type": "stream"
        },
        {
          "name": "stdout",
          "text": "Epoch 13 Loss: 0.9236, Accuracy: 0.9993\n",
          "output_type": "stream"
        },
        {
          "name": "stderr",
          "text": "                                                              \r",
          "output_type": "stream"
        },
        {
          "name": "stdout",
          "text": "Epoch 14 Loss: 1.2350, Accuracy: 0.9988\n",
          "output_type": "stream"
        },
        {
          "name": "stderr",
          "text": "                                                              \r",
          "output_type": "stream"
        },
        {
          "name": "stdout",
          "text": "Epoch 15 Loss: 0.7469, Accuracy: 0.9998\n",
          "output_type": "stream"
        },
        {
          "name": "stderr",
          "text": "                                                              \r",
          "output_type": "stream"
        },
        {
          "name": "stdout",
          "text": "Epoch 16 Loss: 0.7024, Accuracy: 0.9995\n",
          "output_type": "stream"
        },
        {
          "name": "stderr",
          "text": "                                                              \r",
          "output_type": "stream"
        },
        {
          "name": "stdout",
          "text": "Epoch 17 Loss: 0.9423, Accuracy: 0.9990\n",
          "output_type": "stream"
        },
        {
          "name": "stderr",
          "text": "                                                              \r",
          "output_type": "stream"
        },
        {
          "name": "stdout",
          "text": "Epoch 18 Loss: 0.8807, Accuracy: 0.9993\n",
          "output_type": "stream"
        },
        {
          "name": "stderr",
          "text": "                                                              \r",
          "output_type": "stream"
        },
        {
          "name": "stdout",
          "text": "Epoch 19 Loss: 1.2477, Accuracy: 0.9986\n",
          "output_type": "stream"
        },
        {
          "name": "stderr",
          "text": "                                                              \r",
          "output_type": "stream"
        },
        {
          "name": "stdout",
          "text": "Epoch 20 Loss: 1.1687, Accuracy: 0.9986\n",
          "output_type": "stream"
        },
        {
          "name": "stderr",
          "text": "                                                              \r",
          "output_type": "stream"
        },
        {
          "name": "stdout",
          "text": "Epoch 21 Loss: 0.9292, Accuracy: 0.9990\n",
          "output_type": "stream"
        },
        {
          "name": "stderr",
          "text": "                                                              \r",
          "output_type": "stream"
        },
        {
          "name": "stdout",
          "text": "Epoch 22 Loss: 0.6593, Accuracy: 0.9993\n",
          "output_type": "stream"
        },
        {
          "name": "stderr",
          "text": "                                                              \r",
          "output_type": "stream"
        },
        {
          "name": "stdout",
          "text": "Epoch 23 Loss: 0.4534, Accuracy: 0.9998\n",
          "output_type": "stream"
        },
        {
          "name": "stderr",
          "text": "                                                              \r",
          "output_type": "stream"
        },
        {
          "name": "stdout",
          "text": "Epoch 24 Loss: 0.4647, Accuracy: 0.9998\n",
          "output_type": "stream"
        },
        {
          "name": "stderr",
          "text": "                                                              \r",
          "output_type": "stream"
        },
        {
          "name": "stdout",
          "text": "Epoch 25 Loss: 0.4674, Accuracy: 0.9995\n",
          "output_type": "stream"
        },
        {
          "name": "stderr",
          "text": "                                                              \r",
          "output_type": "stream"
        },
        {
          "name": "stdout",
          "text": "Epoch 26 Loss: 0.3877, Accuracy: 0.9998\n",
          "output_type": "stream"
        },
        {
          "name": "stderr",
          "text": "                                                              \r",
          "output_type": "stream"
        },
        {
          "name": "stdout",
          "text": "Epoch 27 Loss: 0.4240, Accuracy: 0.9998\n",
          "output_type": "stream"
        },
        {
          "name": "stderr",
          "text": "                                                              \r",
          "output_type": "stream"
        },
        {
          "name": "stdout",
          "text": "Epoch 28 Loss: 0.3795, Accuracy: 0.9998\n",
          "output_type": "stream"
        },
        {
          "name": "stderr",
          "text": "                                                              \r",
          "output_type": "stream"
        },
        {
          "name": "stdout",
          "text": "Epoch 29 Loss: 0.4767, Accuracy: 0.9998\n",
          "output_type": "stream"
        },
        {
          "name": "stderr",
          "text": "                                                              \r",
          "output_type": "stream"
        },
        {
          "name": "stdout",
          "text": "Epoch 30 Loss: 0.4868, Accuracy: 0.9995\nClassification Report:\n              precision    recall  f1-score   support\n\n           0     0.6995    0.8686    0.7749      1096\n           1     0.8159    0.6186    0.7037      1096\n           2     0.8212    0.8212    0.8212      1096\n\n    accuracy                         0.7695      3288\n   macro avg     0.7788    0.7695    0.7666      3288\nweighted avg     0.7788    0.7695    0.7666      3288\n\n",
          "output_type": "stream"
        }
      ],
      "execution_count": null
    },
    {
      "cell_type": "code",
      "source": [
        "import matplotlib.pyplot as plt\n",
        "import seaborn as sns\n",
        "from sklearn.metrics import confusion_matrix\n",
        "\n",
        "# **Step 1: Compute Confusion Matrix**\n",
        "cm = confusion_matrix(true_labels, predictions)\n",
        "\n",
        "# **Step 2: Normalize Confusion Matrix (Optional, Uncomment to Enable)**\n",
        "cm_normalized = cm.astype('float') / cm.sum(axis=1)[:, np.newaxis]  # Normalize by row sum\n",
        "\n",
        "# **Step 3: Plot Confusion Matrix**\n",
        "plt.figure(figsize=(8, 6))\n",
        "sns.heatmap(cm, annot=True, fmt='d', cmap='Blues', xticklabels=[\"NV\", \"PV\", \"DV\"], yticklabels=[\"NV\", \"PV\", \"DV\"])\n",
        "plt.xlabel(\"Predicted Label\")\n",
        "plt.ylabel(\"True Label\")\n",
        "plt.title(\"Confusion Matrix\")\n",
        "plt.show()\n"
      ],
      "metadata": {
        "trusted": true,
        "execution": {
          "iopub.status.busy": "2025-02-10T11:23:32.016029Z",
          "iopub.execute_input": "2025-02-10T11:23:32.016368Z",
          "iopub.status.idle": "2025-02-10T11:23:32.631617Z",
          "shell.execute_reply.started": "2025-02-10T11:23:32.016338Z",
          "shell.execute_reply": "2025-02-10T11:23:32.630816Z"
        },
        "id": "K5Oi3Sh_mU9G",
        "outputId": "a4df1924-ede4-464d-f726-07160a929a0c"
      },
      "outputs": [
        {
          "output_type": "display_data",
          "data": {
            "text/plain": "<Figure size 800x600 with 2 Axes>",
            "image/png": "[encoded data removed]"
          },
          "metadata": {}
        }
      ],
      "execution_count": null
    },
    {
      "cell_type": "code",
      "source": [
        "import matplotlib.pyplot as plt\n",
        "from sklearn.metrics import roc_curve, auc, precision_recall_curve\n",
        "from sklearn.preprocessing import label_binarize\n",
        "import numpy as np\n",
        "\n",
        "# **Step 1: Convert True Labels to One-Hot Encoding (Required for Multi-Class)**\n",
        "num_classes = len(set(true_labels))  # Number of classes\n",
        "true_labels_one_hot = label_binarize(true_labels, classes=np.arange(num_classes))\n",
        "\n",
        "# **Step 2: Get Softmax Probabilities for ROC & PR Curves**\n",
        "model.eval()\n",
        "all_probs = []\n",
        "with torch.no_grad():\n",
        "    for batch in test_loader:\n",
        "        input_ids, attention_mask, labels = batch[\"input_ids\"].to(device), batch[\"attention_mask\"].to(device), batch[\"label\"].to(device)\n",
        "        outputs = model(input_ids, attention_mask)\n",
        "        probs = torch.exp(outputs).cpu().numpy()  # Convert log-softmax to probabilities\n",
        "        all_probs.extend(probs)\n",
        "\n",
        "all_probs = np.array(all_probs)\n",
        "\n",
        "# **Step 3: Plot ROC Curves for Each Class**\n",
        "plt.figure(figsize=(10, 7))\n",
        "for i in range(num_classes):\n",
        "    fpr, tpr, _ = roc_curve(true_labels_one_hot[:, i], all_probs[:, i])\n",
        "    roc_auc = auc(fpr, tpr)\n",
        "    plt.plot(fpr, tpr, label=f\"Class {i} (AUC = {roc_auc:.4f})\")\n",
        "\n",
        "plt.plot([0, 1], [0, 1], 'k--')  # Diagonal line for reference\n",
        "plt.xlabel(\"False Positive Rate\")\n",
        "plt.ylabel(\"True Positive Rate\")\n",
        "plt.title(\"Multi-Class ROC Curve\")\n",
        "plt.legend()\n",
        "plt.grid()\n",
        "plt.show()\n",
        "\n",
        "# **Step 4: Plot Precision-Recall Curves for Each Class**\n",
        "plt.figure(figsize=(10, 7))\n",
        "for i in range(num_classes):\n",
        "    precision, recall, _ = precision_recall_curve(true_labels_one_hot[:, i], all_probs[:, i])\n",
        "    plt.plot(recall, precision, label=f\"Class {i}\")\n",
        "\n",
        "plt.xlabel(\"Recall\")\n",
        "plt.ylabel(\"Precision\")\n",
        "plt.title(\"Precision-Recall Curve\")\n",
        "plt.legend()\n",
        "plt.grid()\n",
        "plt.show()\n"
      ],
      "metadata": {
        "trusted": true,
        "execution": {
          "iopub.status.busy": "2025-02-10T11:24:56.656312Z",
          "iopub.execute_input": "2025-02-10T11:24:56.657Z",
          "iopub.status.idle": "2025-02-10T11:25:11.056579Z",
          "shell.execute_reply.started": "2025-02-10T11:24:56.656967Z",
          "shell.execute_reply": "2025-02-10T11:25:11.055764Z"
        },
        "id": "I-Cw9wHqmU9H",
        "outputId": "cf22de4e-0b40-4add-949f-70f16612e2a2"
      },
      "outputs": [
        {
          "output_type": "display_data",
          "data": {
            "text/plain": "<Figure size 1000x700 with 1 Axes>",
            "image/png": "[encoded data removed]"
          },
          "metadata": {}
        },
        {
          "output_type": "display_data",
          "data": {
            "text/plain": "<Figure size 1000x700 with 1 Axes>",
            "image/png": "[encoded data removed]"
          },
          "metadata": {}
        }
      ],
      "execution_count": null
    },
    {
      "cell_type": "code",
      "source": [
        "import torch\n",
        "import torch.nn as nn\n",
        "import torch.optim as optim\n",
        "import pandas as pd\n",
        "import numpy as np\n",
        "import re\n",
        "from torch.utils.data import Dataset, DataLoader\n",
        "from transformers import AutoTokenizer, AutoModel\n",
        "from tqdm import tqdm\n",
        "from sklearn.metrics import accuracy_score, classification_report\n",
        "from nltk.corpus import stopwords\n",
        "import nltk\n",
        "\n",
        "# Download stopwords if not available\n",
        "nltk.download('stopwords')\n",
        "stop_words = set(stopwords.words('english'))\n",
        "\n",
        "# Load BanglaBERT Tokenizer\n",
        "tokenizer = AutoTokenizer.from_pretrained(\"csebuetnlp/banglabert\")\n",
        "\n",
        "# Load Dataset\n",
        "def load_data(file_path):\n",
        "    df = pd.read_csv(file_path)\n",
        "    df = df[['text', 'label']]\n",
        "    return df\n",
        "\n",
        "train_df = load_data(\"/kaggle/input/violencetext/train.csv\")\n",
        "dev_df = load_data(\"/kaggle/input/violencetext/dev.csv\")\n",
        "test_df = load_data(\"/kaggle/input/violencetext/test.csv\")\n",
        "\n",
        "# Text Preprocessing\n",
        "def preprocess_text(text):\n",
        "    text = text.lower()\n",
        "    text = re.sub(r'\\S+@\\S+', '[EMAIL]', text)  # Replace emails\n",
        "    text = re.sub(r'http\\S+|www\\S+', '[URL]', text)  # Replace URLs\n",
        "    text = re.sub(r'\\d+', '[NUMBER]', text)  # Replace numbers\n",
        "    text = re.sub(r'[^\\w\\s]', '', text)  # Remove punctuation\n",
        "    text = ' '.join([word for word in text.split() if word not in stop_words])  # Remove stopwords\n",
        "    text = re.sub(r'\\s+', ' ', text).strip()  # Normalize whitespace\n",
        "    return text\n",
        "\n",
        "train_df[\"text\"] = train_df[\"text\"].apply(preprocess_text)\n",
        "dev_df[\"text\"] = dev_df[\"text\"].apply(preprocess_text)\n",
        "test_df[\"text\"] = test_df[\"text\"].apply(preprocess_text)\n",
        "\n",
        "# Dataset Class\n",
        "class TextDataset(Dataset):\n",
        "    def __init__(self, texts, labels, tokenizer, max_length=70):\n",
        "        self.texts = texts\n",
        "        self.labels = labels\n",
        "        self.tokenizer = tokenizer\n",
        "        self.max_length = max_length\n",
        "\n",
        "    def __len__(self):\n",
        "        return len(self.texts)\n",
        "\n",
        "    def __getitem__(self, idx):\n",
        "        text = self.texts[idx]\n",
        "        label = self.labels[idx]\n",
        "\n",
        "        encoding = self.tokenizer(\n",
        "            text,\n",
        "            padding=\"max_length\",\n",
        "            truncation=True,\n",
        "            max_length=self.max_length,\n",
        "            return_tensors=\"pt\"\n",
        "        )\n",
        "\n",
        "        return {\n",
        "            \"input_ids\": encoding[\"input_ids\"].squeeze(0),\n",
        "            \"attention_mask\": encoding[\"attention_mask\"].squeeze(0),\n",
        "            \"label\": torch.tensor(label, dtype=torch.long)\n",
        "        }\n",
        "\n",
        "# Prepare datasets\n",
        "train_dataset = TextDataset(train_df[\"text\"].tolist(), train_df[\"label\"].tolist(), tokenizer)\n",
        "dev_dataset = TextDataset(dev_df[\"text\"].tolist(), dev_df[\"label\"].tolist(), tokenizer)\n",
        "test_dataset = TextDataset(test_df[\"text\"].tolist(), test_df[\"label\"].tolist(), tokenizer)\n",
        "\n",
        "# Create DataLoaders\n",
        "batch_size = 32\n",
        "train_loader = DataLoader(train_dataset, batch_size=batch_size, shuffle=True)\n",
        "dev_loader = DataLoader(dev_dataset, batch_size=batch_size, shuffle=False)\n",
        "test_loader = DataLoader(test_dataset, batch_size=batch_size, shuffle=False)\n",
        "\n",
        "# Capsule Network Layer\n",
        "class CapsuleLayer(nn.Module):\n",
        "    def __init__(self, num_capsules, input_dim, output_dim, routing_iterations=1):\n",
        "        super(CapsuleLayer, self).__init__()\n",
        "        self.num_capsules = num_capsules\n",
        "        self.input_dim = input_dim\n",
        "        self.output_dim = output_dim\n",
        "        self.routing_iterations = routing_iterations\n",
        "        self.weights = nn.Parameter(torch.randn(num_capsules, input_dim, output_dim))\n",
        "\n",
        "    def forward(self, x):\n",
        "        x = x.unsqueeze(1).expand(-1, self.num_capsules, -1, -1)\n",
        "        u_hat = torch.matmul(x, self.weights)\n",
        "\n",
        "        b_ij = torch.zeros(u_hat.shape[0], self.num_capsules, u_hat.shape[2]).to(x.device)\n",
        "\n",
        "        for _ in range(self.routing_iterations):\n",
        "            c_ij = torch.nn.functional.softmax(b_ij, dim=1)\n",
        "            s_j = (c_ij.unsqueeze(-1) * u_hat).sum(dim=2)\n",
        "            v_j = self.squash(s_j)\n",
        "            b_ij = b_ij + (u_hat * v_j.unsqueeze(2)).sum(dim=-1)\n",
        "\n",
        "        return v_j\n",
        "\n",
        "    @staticmethod\n",
        "    def squash(tensor):\n",
        "        norm = (tensor ** 2).sum(dim=-1, keepdim=True)\n",
        "        scale = norm / (1 + norm)\n",
        "        return scale * tensor / torch.sqrt(norm + 1e-8)\n",
        "\n",
        "# Define CAPTAIN Model using BanglaBERT\n",
        "class CAPTAINModel(nn.Module):\n",
        "    def __init__(self, num_classes=3):\n",
        "        super(CAPTAINModel, self).__init__()\n",
        "        self.bert = AutoModel.from_pretrained(\"csebuetnlp/banglabert\")\n",
        "        self.capsule = CapsuleLayer(num_capsules=8, input_dim=768, output_dim=16)\n",
        "        self.flatten = nn.Flatten()\n",
        "        self.batch_norm = nn.BatchNorm1d(128)  # Batch Normalization\n",
        "        self.fc1 = nn.Linear(8 * 16, 128)\n",
        "        self.fc2 = nn.Linear(128, num_classes)\n",
        "        self.dropout = nn.Dropout(0.2)\n",
        "\n",
        "    def forward(self, input_ids, attention_mask):\n",
        "        bert_output = self.bert(input_ids=input_ids, attention_mask=attention_mask).last_hidden_state\n",
        "        caps_output = self.capsule(bert_output)\n",
        "        flat_output = self.flatten(caps_output)\n",
        "        x = self.batch_norm(torch.relu(self.fc1(flat_output)))\n",
        "        x = self.dropout(x)\n",
        "        logits = self.fc2(x)\n",
        "        return logits\n",
        "\n",
        "# Initialize Model\n",
        "device = torch.device(\"cuda\" if torch.cuda.is_available() else \"cpu\")\n",
        "model = CAPTAINModel().to(device)\n",
        "\n",
        "# Compute Class Weights\n",
        "class_counts = train_df['label'].value_counts().tolist()\n",
        "class_weights = torch.tensor(1.0 / np.array(class_counts), dtype=torch.float).to(device)\n",
        "\n",
        "# Define optimizer and loss function\n",
        "optimizer = optim.Adam(model.parameters(), lr=1e-5)  # Lower Learning Rate\n",
        "criterion = nn.CrossEntropyLoss(weight=class_weights)  # Weighted Loss\n",
        "\n",
        "# Training Loop with Progress Bar & Training Accuracy\n",
        "epochs = 5\n",
        "for epoch in range(epochs):\n",
        "    model.train()\n",
        "    total_loss = 0\n",
        "    correct, total = 0, 0  # Track training accuracy\n",
        "\n",
        "    progress_bar = tqdm(train_loader, desc=f\"Epoch {epoch+1}/{epochs}\", leave=False)\n",
        "\n",
        "    for batch in progress_bar:\n",
        "        input_ids, attention_mask, labels = batch[\"input_ids\"].to(device), batch[\"attention_mask\"].to(device), batch[\"label\"].to(device)\n",
        "\n",
        "        optimizer.zero_grad()\n",
        "        outputs = model(input_ids, attention_mask)\n",
        "\n",
        "        loss = criterion(outputs, labels)\n",
        "        loss.backward()\n",
        "        optimizer.step()\n",
        "\n",
        "        total_loss += loss.item()\n",
        "\n",
        "        # Calculate Training Accuracy\n",
        "        preds = torch.argmax(outputs, dim=1)\n",
        "        correct += (preds == labels).sum().item()\n",
        "        total += labels.size(0)\n",
        "        train_acc = correct / total\n",
        "\n",
        "        progress_bar.set_postfix(loss=total_loss / (total + 1), accuracy=f\"{train_acc:.4f}\")\n",
        "\n",
        "    print(f\"Epoch {epoch+1} Loss: {total_loss:.4f}, Training Accuracy: {train_acc:.4f}\")\n",
        "\n",
        "# Evaluation\n",
        "model.eval()\n",
        "predictions, true_labels = [], []\n",
        "with torch.no_grad():\n",
        "    for batch in test_loader:\n",
        "        input_ids, attention_mask, labels = batch[\"input_ids\"].to(device), batch[\"attention_mask\"].to(device), batch[\"label\"].to(device)\n",
        "\n",
        "        outputs = model(input_ids, attention_mask)\n",
        "        preds = torch.argmax(outputs, dim=1).cpu().numpy()\n",
        "        labels = labels.cpu().numpy()\n",
        "\n",
        "        predictions.extend(preds)\n",
        "        true_labels.extend(labels)\n",
        "\n",
        "# Classification Report\n",
        "print(\"Classification Report:\")\n",
        "print(classification_report(true_labels, predictions, target_names=[\"NV\", \"PV\", \"DV\"]))\n"
      ],
      "metadata": {
        "trusted": true,
        "execution": {
          "iopub.status.busy": "2025-02-10T03:28:58.297676Z",
          "iopub.execute_input": "2025-02-10T03:28:58.297996Z",
          "iopub.status.idle": "2025-02-10T03:32:14.744316Z",
          "shell.execute_reply.started": "2025-02-10T03:28:58.29797Z",
          "shell.execute_reply": "2025-02-10T03:32:14.743404Z"
        },
        "id": "A6iXYKAZmU9H",
        "outputId": "246650ac-59d1-4a26-c724-80a2b27e753c"
      },
      "outputs": [
        {
          "name": "stdout",
          "text": "[nltk_data] Downloading package stopwords to /usr/share/nltk_data...\n[nltk_data]   Package stopwords is already up-to-date!\n",
          "output_type": "stream"
        },
        {
          "name": "stderr",
          "text": "                                                                                        \r",
          "output_type": "stream"
        },
        {
          "name": "stdout",
          "text": "Epoch 1 Loss: 90.5630, Training Accuracy: 0.4111\n",
          "output_type": "stream"
        },
        {
          "name": "stderr",
          "text": "                                                                                        \r",
          "output_type": "stream"
        },
        {
          "name": "stdout",
          "text": "Epoch 2 Loss: 75.6795, Training Accuracy: 0.5252\n",
          "output_type": "stream"
        },
        {
          "name": "stderr",
          "text": "                                                                                        \r",
          "output_type": "stream"
        },
        {
          "name": "stdout",
          "text": "Epoch 3 Loss: 67.7096, Training Accuracy: 0.5922\n",
          "output_type": "stream"
        },
        {
          "name": "stderr",
          "text": "                                                                                        \r",
          "output_type": "stream"
        },
        {
          "name": "stdout",
          "text": "Epoch 4 Loss: 60.3145, Training Accuracy: 0.6478\n",
          "output_type": "stream"
        },
        {
          "name": "stderr",
          "text": "                                                                                        \r",
          "output_type": "stream"
        },
        {
          "name": "stdout",
          "text": "Epoch 5 Loss: 52.2500, Training Accuracy: 0.7178\nClassification Report:\n              precision    recall  f1-score   support\n\n          NV       0.76      0.62      0.68      1096\n          PV       0.70      0.37      0.48       719\n          DV       0.22      0.83      0.35       201\n\n    accuracy                           0.55      2016\n   macro avg       0.56      0.61      0.50      2016\nweighted avg       0.68      0.55      0.58      2016\n\n",
          "output_type": "stream"
        }
      ],
      "execution_count": null
    },
    {
      "cell_type": "code",
      "source": [
        "import torch\n",
        "import torch.nn as nn\n",
        "import torch.optim as optim\n",
        "import pandas as pd\n",
        "import numpy as np\n",
        "import re\n",
        "from torch.utils.data import Dataset, DataLoader\n",
        "from transformers import AutoTokenizer, AutoModel\n",
        "from tqdm import tqdm\n",
        "from sklearn.metrics import accuracy_score, classification_report\n",
        "from nltk.corpus import stopwords\n",
        "import nltk\n",
        "\n",
        "# Download stopwords if not available\n",
        "nltk.download('stopwords')\n",
        "stop_words = set(stopwords.words('english'))\n",
        "\n",
        "# Load BanglaBERT Tokenizer\n",
        "tokenizer = AutoTokenizer.from_pretrained(\"csebuetnlp/banglabert\")\n",
        "\n",
        "# Load Dataset\n",
        "def load_data(file_path):\n",
        "    df = pd.read_csv(file_path)\n",
        "    df = df[['text', 'label']]\n",
        "    return df\n",
        "\n",
        "train_df = load_data(\"/kaggle/input/violencetext/train.csv\")\n",
        "dev_df = load_data(\"/kaggle/input/violencetext/dev.csv\")\n",
        "test_df = load_data(\"/kaggle/input/violencetext/test.csv\")\n",
        "\n",
        "# Text Preprocessing\n",
        "def preprocess_text(text):\n",
        "    text = text.lower()\n",
        "    text = re.sub(r'\\S+@\\S+', '[EMAIL]', text)  # Replace emails\n",
        "    text = re.sub(r'http\\S+|www\\S+', '[URL]', text)  # Replace URLs\n",
        "    text = re.sub(r'\\d+', '[NUMBER]', text)  # Replace numbers\n",
        "    text = re.sub(r'[^\\w\\s]', '', text)  # Remove punctuation\n",
        "    text = ' '.join([word for word in text.split() if word not in stop_words])  # Remove stopwords\n",
        "    text = re.sub(r'\\s+', ' ', text).strip()  # Normalize whitespace\n",
        "    return text\n",
        "\n",
        "train_df[\"text\"] = train_df[\"text\"].apply(preprocess_text)\n",
        "dev_df[\"text\"] = dev_df[\"text\"].apply(preprocess_text)\n",
        "test_df[\"text\"] = test_df[\"text\"].apply(preprocess_text)\n",
        "\n",
        "# Dataset Class\n",
        "class TextDataset(Dataset):\n",
        "    def __init__(self, texts, labels, tokenizer, max_length=70):\n",
        "        self.texts = texts\n",
        "        self.labels = labels\n",
        "        self.tokenizer = tokenizer\n",
        "        self.max_length = max_length\n",
        "\n",
        "    def __len__(self):\n",
        "        return len(self.texts)\n",
        "\n",
        "    def __getitem__(self, idx):\n",
        "        text = self.texts[idx]\n",
        "        label = self.labels[idx]\n",
        "\n",
        "        encoding = self.tokenizer(\n",
        "            text,\n",
        "            padding=\"max_length\",\n",
        "            truncation=True,\n",
        "            max_length=self.max_length,\n",
        "            return_tensors=\"pt\"\n",
        "        )\n",
        "\n",
        "        return {\n",
        "            \"input_ids\": encoding[\"input_ids\"].squeeze(0),\n",
        "            \"attention_mask\": encoding[\"attention_mask\"].squeeze(0),\n",
        "            \"label\": torch.tensor(label, dtype=torch.long)\n",
        "        }\n",
        "\n",
        "# Prepare datasets\n",
        "train_dataset = TextDataset(train_df[\"text\"].tolist(), train_df[\"label\"].tolist(), tokenizer)\n",
        "dev_dataset = TextDataset(dev_df[\"text\"].tolist(), dev_df[\"label\"].tolist(), tokenizer)\n",
        "test_dataset = TextDataset(test_df[\"text\"].tolist(), test_df[\"label\"].tolist(), tokenizer)\n",
        "\n",
        "# Create DataLoaders\n",
        "batch_size = 64\n",
        "train_loader = DataLoader(train_dataset, batch_size=batch_size, shuffle=True)\n",
        "dev_loader = DataLoader(dev_dataset, batch_size=batch_size, shuffle=False)\n",
        "test_loader = DataLoader(test_dataset, batch_size=batch_size, shuffle=False)\n",
        "\n",
        "# Capsule Network Layer\n",
        "class CapsuleLayer(nn.Module):\n",
        "    def __init__(self, num_capsules, input_dim, output_dim, routing_iterations=1):\n",
        "        super(CapsuleLayer, self).__init__()\n",
        "        self.num_capsules = num_capsules\n",
        "        self.input_dim = input_dim\n",
        "        self.output_dim = output_dim\n",
        "        self.routing_iterations = routing_iterations\n",
        "        self.weights = nn.Parameter(torch.randn(num_capsules, input_dim, output_dim))\n",
        "\n",
        "    def forward(self, x):\n",
        "        x = x.unsqueeze(1).expand(-1, self.num_capsules, -1, -1)\n",
        "        u_hat = torch.matmul(x, self.weights)\n",
        "\n",
        "        b_ij = torch.zeros(u_hat.shape[0], self.num_capsules, u_hat.shape[2]).to(x.device)\n",
        "\n",
        "        for _ in range(self.routing_iterations):\n",
        "            c_ij = torch.nn.functional.softmax(b_ij, dim=1)\n",
        "            s_j = (c_ij.unsqueeze(-1) * u_hat).sum(dim=2)\n",
        "            v_j = self.squash(s_j)\n",
        "            b_ij = b_ij + (u_hat * v_j.unsqueeze(2)).sum(dim=-1)\n",
        "\n",
        "        return v_j\n",
        "\n",
        "    @staticmethod\n",
        "    def squash(tensor):\n",
        "        norm = (tensor ** 2).sum(dim=-1, keepdim=True)\n",
        "        scale = norm / (1 + norm)\n",
        "        return scale * tensor / torch.sqrt(norm + 1e-8)\n",
        "\n",
        "# Define CAPTAIN Model using BanglaBERT\n",
        "class CAPTAINModel(nn.Module):\n",
        "    def __init__(self, num_classes=3):\n",
        "        super(CAPTAINModel, self).__init__()\n",
        "        self.bert = AutoModel.from_pretrained(\"csebuetnlp/banglabert\")\n",
        "        self.capsule = CapsuleLayer(num_capsules=8, input_dim=768, output_dim=16)\n",
        "        self.flatten = nn.Flatten()\n",
        "        self.batch_norm = nn.BatchNorm1d(128)  # Batch Normalization\n",
        "        self.fc1 = nn.Linear(8 * 16, 128)\n",
        "        self.fc2 = nn.Linear(128, num_classes)\n",
        "        self.dropout = nn.Dropout(0.2)\n",
        "\n",
        "    def forward(self, input_ids, attention_mask):\n",
        "        bert_output = self.bert(input_ids=input_ids, attention_mask=attention_mask).last_hidden_state\n",
        "        caps_output = self.capsule(bert_output)\n",
        "        flat_output = self.flatten(caps_output)\n",
        "        x = self.batch_norm(torch.relu(self.fc1(flat_output)))\n",
        "        x = self.dropout(x)\n",
        "        logits = self.fc2(x)\n",
        "        return logits\n",
        "\n",
        "# Initialize Model\n",
        "device = torch.device(\"cuda\" if torch.cuda.is_available() else \"cpu\")\n",
        "model = CAPTAINModel().to(device)\n",
        "\n",
        "# Compute Class Weights\n",
        "class_counts = train_df['label'].value_counts().tolist()\n",
        "class_weights = torch.tensor(1.0 / np.array(class_counts), dtype=torch.float).to(device)\n",
        "\n",
        "# Define optimizer and loss function\n",
        "optimizer = optim.Adam(model.parameters(), lr=1e-5)  # Lower Learning Rate\n",
        "criterion = nn.CrossEntropyLoss(weight=class_weights)  # Weighted Loss\n",
        "\n",
        "# Training Loop with Progress Bar & Training Accuracy\n",
        "epochs = 65\n",
        "for epoch in range(epochs):\n",
        "    model.train()\n",
        "    total_loss = 0\n",
        "    correct, total = 0, 0  # Track training accuracy\n",
        "\n",
        "    progress_bar = tqdm(train_loader, desc=f\"Epoch {epoch+1}/{epochs}\", leave=False)\n",
        "\n",
        "    for batch in progress_bar:\n",
        "        input_ids, attention_mask, labels = batch[\"input_ids\"].to(device), batch[\"attention_mask\"].to(device), batch[\"label\"].to(device)\n",
        "\n",
        "        optimizer.zero_grad()\n",
        "        outputs = model(input_ids, attention_mask)\n",
        "\n",
        "        loss = criterion(outputs, labels)\n",
        "        loss.backward()\n",
        "        optimizer.step()\n",
        "\n",
        "        total_loss += loss.item()\n",
        "\n",
        "        # Calculate Training Accuracy\n",
        "        preds = torch.argmax(outputs, dim=1)\n",
        "        correct += (preds == labels).sum().item()\n",
        "        total += labels.size(0)\n",
        "        train_acc = correct / total\n",
        "\n",
        "        progress_bar.set_postfix(loss=total_loss / (total + 1), accuracy=f\"{train_acc:.4f}\")\n",
        "\n",
        "    print(f\"Epoch {epoch+1} Loss: {total_loss:.4f}, Training Accuracy: {train_acc:.4f}\")\n",
        "\n",
        "# Evaluation\n",
        "model.eval()\n",
        "predictions, true_labels = [], []\n",
        "with torch.no_grad():\n",
        "    for batch in test_loader:\n",
        "        input_ids, attention_mask, labels = batch[\"input_ids\"].to(device), batch[\"attention_mask\"].to(device), batch[\"label\"].to(device)\n",
        "\n",
        "        outputs = model(input_ids, attention_mask)\n",
        "        preds = torch.argmax(outputs, dim=1).cpu().numpy()\n",
        "        labels = labels.cpu().numpy()\n",
        "\n",
        "        predictions.extend(preds)\n",
        "        true_labels.extend(labels)\n",
        "\n",
        "# Classification Report with 4 Decimal Precision\n",
        "print(\"Classification Report:\")\n",
        "print(classification_report(true_labels, predictions, target_names=[\"NV\", \"PV\", \"DV\"], digits=4))\n",
        "\n"
      ],
      "metadata": {
        "trusted": true,
        "execution": {
          "iopub.status.busy": "2025-02-10T06:53:02.24611Z",
          "iopub.execute_input": "2025-02-10T06:53:02.246564Z",
          "iopub.status.idle": "2025-02-10T07:29:53.797748Z",
          "shell.execute_reply.started": "2025-02-10T06:53:02.24652Z",
          "shell.execute_reply": "2025-02-10T07:29:53.796542Z"
        },
        "id": "Oeq-lFihmU9I",
        "outputId": "0b60dddf-2b4f-4e47-a3e7-5a8e2a2fe831"
      },
      "outputs": [
        {
          "name": "stdout",
          "text": "[nltk_data] Downloading package stopwords to /usr/share/nltk_data...\n[nltk_data]   Package stopwords is already up-to-date!\n",
          "output_type": "stream"
        },
        {
          "name": "stderr",
          "text": "                                                                                         \r",
          "output_type": "stream"
        },
        {
          "name": "stdout",
          "text": "Epoch 1 Loss: 47.1379, Training Accuracy: 0.3333\n",
          "output_type": "stream"
        },
        {
          "name": "stderr",
          "text": "                                                                                         \r",
          "output_type": "stream"
        },
        {
          "name": "stdout",
          "text": "Epoch 2 Loss: 39.8336, Training Accuracy: 0.4541\n",
          "output_type": "stream"
        },
        {
          "name": "stderr",
          "text": "                                                                                         \r",
          "output_type": "stream"
        },
        {
          "name": "stdout",
          "text": "Epoch 3 Loss: 35.8917, Training Accuracy: 0.5378\n",
          "output_type": "stream"
        },
        {
          "name": "stderr",
          "text": "                                                                                         \r",
          "output_type": "stream"
        },
        {
          "name": "stdout",
          "text": "Epoch 4 Loss: 32.2777, Training Accuracy: 0.6030\n",
          "output_type": "stream"
        },
        {
          "name": "stderr",
          "text": "                                                                                         \r",
          "output_type": "stream"
        },
        {
          "name": "stdout",
          "text": "Epoch 5 Loss: 29.2260, Training Accuracy: 0.6522\n",
          "output_type": "stream"
        },
        {
          "name": "stderr",
          "text": "                                                                                          \r",
          "output_type": "stream"
        },
        {
          "name": "stdout",
          "text": "Epoch 6 Loss: 26.2702, Training Accuracy: 0.6996\n",
          "output_type": "stream"
        },
        {
          "name": "stderr",
          "text": "                                                                                          \r",
          "output_type": "stream"
        },
        {
          "name": "stdout",
          "text": "Epoch 7 Loss: 23.1622, Training Accuracy: 0.7544\n",
          "output_type": "stream"
        },
        {
          "name": "stderr",
          "text": "                                                                                          \r",
          "output_type": "stream"
        },
        {
          "name": "stdout",
          "text": "Epoch 8 Loss: 19.9075, Training Accuracy: 0.7885\n",
          "output_type": "stream"
        },
        {
          "name": "stderr",
          "text": "                                                                                          \r",
          "output_type": "stream"
        },
        {
          "name": "stdout",
          "text": "Epoch 9 Loss: 16.9193, Training Accuracy: 0.8281\n",
          "output_type": "stream"
        },
        {
          "name": "stderr",
          "text": "                                                                                           \r",
          "output_type": "stream"
        },
        {
          "name": "stdout",
          "text": "Epoch 10 Loss: 14.9766, Training Accuracy: 0.8637\n",
          "output_type": "stream"
        },
        {
          "name": "stderr",
          "text": "                                                                                           \r",
          "output_type": "stream"
        },
        {
          "name": "stdout",
          "text": "Epoch 11 Loss: 12.8331, Training Accuracy: 0.8904\n",
          "output_type": "stream"
        },
        {
          "name": "stderr",
          "text": "                                                                                           \r",
          "output_type": "stream"
        },
        {
          "name": "stdout",
          "text": "Epoch 12 Loss: 10.8775, Training Accuracy: 0.9133\n",
          "output_type": "stream"
        },
        {
          "name": "stderr",
          "text": "                                                                                           \r",
          "output_type": "stream"
        },
        {
          "name": "stdout",
          "text": "Epoch 13 Loss: 9.2976, Training Accuracy: 0.9252\n",
          "output_type": "stream"
        },
        {
          "name": "stderr",
          "text": "                                                                                           \r",
          "output_type": "stream"
        },
        {
          "name": "stdout",
          "text": "Epoch 14 Loss: 7.9698, Training Accuracy: 0.9448\n",
          "output_type": "stream"
        },
        {
          "name": "stderr",
          "text": "                                                                                           \r",
          "output_type": "stream"
        },
        {
          "name": "stdout",
          "text": "Epoch 15 Loss: 6.2536, Training Accuracy: 0.9593\n",
          "output_type": "stream"
        },
        {
          "name": "stderr",
          "text": "                                                                                           \r",
          "output_type": "stream"
        },
        {
          "name": "stdout",
          "text": "Epoch 16 Loss: 5.2451, Training Accuracy: 0.9693\n",
          "output_type": "stream"
        },
        {
          "name": "stderr",
          "text": "                                                                                           \r",
          "output_type": "stream"
        },
        {
          "name": "stdout",
          "text": "Epoch 17 Loss: 5.4974, Training Accuracy: 0.9644\n",
          "output_type": "stream"
        },
        {
          "name": "stderr",
          "text": "                                                                                           \r",
          "output_type": "stream"
        },
        {
          "name": "stdout",
          "text": "Epoch 18 Loss: 3.7905, Training Accuracy: 0.9807\n",
          "output_type": "stream"
        },
        {
          "name": "stderr",
          "text": "                                                                                           \r",
          "output_type": "stream"
        },
        {
          "name": "stdout",
          "text": "Epoch 19 Loss: 3.5372, Training Accuracy: 0.9796\n",
          "output_type": "stream"
        },
        {
          "name": "stderr",
          "text": "                                                                                           \r",
          "output_type": "stream"
        },
        {
          "name": "stdout",
          "text": "Epoch 20 Loss: 3.6097, Training Accuracy: 0.9844\n",
          "output_type": "stream"
        },
        {
          "name": "stderr",
          "text": "                                                                                           \r",
          "output_type": "stream"
        },
        {
          "name": "stdout",
          "text": "Epoch 21 Loss: 3.5624, Training Accuracy: 0.9778\n",
          "output_type": "stream"
        },
        {
          "name": "stderr",
          "text": "                                                                                           \r",
          "output_type": "stream"
        },
        {
          "name": "stdout",
          "text": "Epoch 22 Loss: 3.2361, Training Accuracy: 0.9867\n",
          "output_type": "stream"
        },
        {
          "name": "stderr",
          "text": "                                                                                            \r",
          "output_type": "stream"
        },
        {
          "name": "stdout",
          "text": "Epoch 23 Loss: 3.0609, Training Accuracy: 0.9819\n",
          "output_type": "stream"
        },
        {
          "name": "stderr",
          "text": "                                                                                           \r",
          "output_type": "stream"
        },
        {
          "name": "stdout",
          "text": "Epoch 24 Loss: 3.1328, Training Accuracy: 0.9837\n",
          "output_type": "stream"
        },
        {
          "name": "stderr",
          "text": "                                                                                            \r",
          "output_type": "stream"
        },
        {
          "name": "stdout",
          "text": "Epoch 25 Loss: 3.0074, Training Accuracy: 0.9863\n",
          "output_type": "stream"
        },
        {
          "name": "stderr",
          "text": "                                                                                           \r",
          "output_type": "stream"
        },
        {
          "name": "stdout",
          "text": "Epoch 26 Loss: 2.8378, Training Accuracy: 0.9826\n",
          "output_type": "stream"
        },
        {
          "name": "stderr",
          "text": "                                                                                            \r",
          "output_type": "stream"
        },
        {
          "name": "stdout",
          "text": "Epoch 27 Loss: 2.1746, Training Accuracy: 0.9904\n",
          "output_type": "stream"
        },
        {
          "name": "stderr",
          "text": "                                                                                            \r",
          "output_type": "stream"
        },
        {
          "name": "stdout",
          "text": "Epoch 28 Loss: 1.9719, Training Accuracy: 0.9911\n",
          "output_type": "stream"
        },
        {
          "name": "stderr",
          "text": "                                                                                            \r",
          "output_type": "stream"
        },
        {
          "name": "stdout",
          "text": "Epoch 29 Loss: 1.8771, Training Accuracy: 0.9930\n",
          "output_type": "stream"
        },
        {
          "name": "stderr",
          "text": "                                                                                            \r",
          "output_type": "stream"
        },
        {
          "name": "stdout",
          "text": "Epoch 30 Loss: 2.5186, Training Accuracy: 0.9867\n",
          "output_type": "stream"
        },
        {
          "name": "stderr",
          "text": "                                                                                            \r",
          "output_type": "stream"
        },
        {
          "name": "stdout",
          "text": "Epoch 31 Loss: 1.8369, Training Accuracy: 0.9919\n",
          "output_type": "stream"
        },
        {
          "name": "stderr",
          "text": "                                                                                            \r",
          "output_type": "stream"
        },
        {
          "name": "stdout",
          "text": "Epoch 32 Loss: 1.8938, Training Accuracy: 0.9907\n",
          "output_type": "stream"
        },
        {
          "name": "stderr",
          "text": "                                                                                            \r",
          "output_type": "stream"
        },
        {
          "name": "stdout",
          "text": "Epoch 33 Loss: 1.6088, Training Accuracy: 0.9937\n",
          "output_type": "stream"
        },
        {
          "name": "stderr",
          "text": "                                                                                           \r",
          "output_type": "stream"
        },
        {
          "name": "stdout",
          "text": "Epoch 34 Loss: 2.8451, Training Accuracy: 0.9778\n",
          "output_type": "stream"
        },
        {
          "name": "stderr",
          "text": "                                                                                            \r",
          "output_type": "stream"
        },
        {
          "name": "stdout",
          "text": "Epoch 35 Loss: 1.5213, Training Accuracy: 0.9930\n",
          "output_type": "stream"
        },
        {
          "name": "stderr",
          "text": "                                                                                            \r",
          "output_type": "stream"
        },
        {
          "name": "stdout",
          "text": "Epoch 36 Loss: 2.0841, Training Accuracy: 0.9941\n",
          "output_type": "stream"
        },
        {
          "name": "stderr",
          "text": "                                                                                           \r",
          "output_type": "stream"
        },
        {
          "name": "stdout",
          "text": "Epoch 37 Loss: 2.7549, Training Accuracy: 0.9830\n",
          "output_type": "stream"
        },
        {
          "name": "stderr",
          "text": "                                                                                            \r",
          "output_type": "stream"
        },
        {
          "name": "stdout",
          "text": "Epoch 38 Loss: 2.5308, Training Accuracy: 0.9874\n",
          "output_type": "stream"
        },
        {
          "name": "stderr",
          "text": "                                                                                            \r",
          "output_type": "stream"
        },
        {
          "name": "stdout",
          "text": "Epoch 39 Loss: 1.6720, Training Accuracy: 0.9930\n",
          "output_type": "stream"
        },
        {
          "name": "stderr",
          "text": "                                                                                            \r",
          "output_type": "stream"
        },
        {
          "name": "stdout",
          "text": "Epoch 40 Loss: 1.1722, Training Accuracy: 0.9981\n",
          "output_type": "stream"
        },
        {
          "name": "stderr",
          "text": "                                                                                            \r",
          "output_type": "stream"
        },
        {
          "name": "stdout",
          "text": "Epoch 41 Loss: 1.1464, Training Accuracy: 0.9959\n",
          "output_type": "stream"
        },
        {
          "name": "stderr",
          "text": "                                                                                            \r",
          "output_type": "stream"
        },
        {
          "name": "stdout",
          "text": "Epoch 42 Loss: 1.1027, Training Accuracy: 0.9956\n",
          "output_type": "stream"
        },
        {
          "name": "stderr",
          "text": "                                                                                            \r",
          "output_type": "stream"
        },
        {
          "name": "stdout",
          "text": "Epoch 43 Loss: 1.1651, Training Accuracy: 0.9959\n",
          "output_type": "stream"
        },
        {
          "name": "stderr",
          "text": "                                                                                            \r",
          "output_type": "stream"
        },
        {
          "name": "stdout",
          "text": "Epoch 44 Loss: 1.1250, Training Accuracy: 0.9963\n",
          "output_type": "stream"
        },
        {
          "name": "stderr",
          "text": "                                                                                            \r",
          "output_type": "stream"
        },
        {
          "name": "stdout",
          "text": "Epoch 45 Loss: 0.9951, Training Accuracy: 0.9974\n",
          "output_type": "stream"
        },
        {
          "name": "stderr",
          "text": "                                                                                            \r",
          "output_type": "stream"
        },
        {
          "name": "stdout",
          "text": "Epoch 46 Loss: 0.9406, Training Accuracy: 0.9963\n",
          "output_type": "stream"
        },
        {
          "name": "stderr",
          "text": "                                                                                            \r",
          "output_type": "stream"
        },
        {
          "name": "stdout",
          "text": "Epoch 47 Loss: 0.7957, Training Accuracy: 0.9989\n",
          "output_type": "stream"
        },
        {
          "name": "stderr",
          "text": "                                                                                            \r",
          "output_type": "stream"
        },
        {
          "name": "stdout",
          "text": "Epoch 48 Loss: 0.8024, Training Accuracy: 0.9974\n",
          "output_type": "stream"
        },
        {
          "name": "stderr",
          "text": "                                                                                            \r",
          "output_type": "stream"
        },
        {
          "name": "stdout",
          "text": "Epoch 49 Loss: 1.2946, Training Accuracy: 0.9937\n",
          "output_type": "stream"
        },
        {
          "name": "stderr",
          "text": "                                                                                            \r",
          "output_type": "stream"
        },
        {
          "name": "stdout",
          "text": "Epoch 50 Loss: 2.0653, Training Accuracy: 0.9889\n",
          "output_type": "stream"
        },
        {
          "name": "stderr",
          "text": "                                                                                            \r",
          "output_type": "stream"
        },
        {
          "name": "stdout",
          "text": "Epoch 51 Loss: 1.3919, Training Accuracy: 0.9926\n",
          "output_type": "stream"
        },
        {
          "name": "stderr",
          "text": "                                                                                            \r",
          "output_type": "stream"
        },
        {
          "name": "stdout",
          "text": "Epoch 52 Loss: 2.1776, Training Accuracy: 0.9852\n",
          "output_type": "stream"
        },
        {
          "name": "stderr",
          "text": "                                                                                            \r",
          "output_type": "stream"
        },
        {
          "name": "stdout",
          "text": "Epoch 53 Loss: 1.2676, Training Accuracy: 0.9937\n",
          "output_type": "stream"
        },
        {
          "name": "stderr",
          "text": "                                                                                            \r",
          "output_type": "stream"
        },
        {
          "name": "stdout",
          "text": "Epoch 54 Loss: 0.8502, Training Accuracy: 0.9978\n",
          "output_type": "stream"
        },
        {
          "name": "stderr",
          "text": "                                                                                            \r",
          "output_type": "stream"
        },
        {
          "name": "stdout",
          "text": "Epoch 55 Loss: 0.7580, Training Accuracy: 0.9993\n",
          "output_type": "stream"
        },
        {
          "name": "stderr",
          "text": "                                                                                            \r",
          "output_type": "stream"
        },
        {
          "name": "stdout",
          "text": "Epoch 56 Loss: 0.7410, Training Accuracy: 0.9985\n",
          "output_type": "stream"
        },
        {
          "name": "stderr",
          "text": "                                                                                            \r",
          "output_type": "stream"
        },
        {
          "name": "stdout",
          "text": "Epoch 57 Loss: 0.6629, Training Accuracy: 0.9985\n",
          "output_type": "stream"
        },
        {
          "name": "stderr",
          "text": "                                                                                            \r",
          "output_type": "stream"
        },
        {
          "name": "stdout",
          "text": "Epoch 58 Loss: 0.5590, Training Accuracy: 0.9996\n",
          "output_type": "stream"
        },
        {
          "name": "stderr",
          "text": "                                                                                            \r",
          "output_type": "stream"
        },
        {
          "name": "stdout",
          "text": "Epoch 59 Loss: 0.8904, Training Accuracy: 0.9948\n",
          "output_type": "stream"
        },
        {
          "name": "stderr",
          "text": "                                                                                            \r",
          "output_type": "stream"
        },
        {
          "name": "stdout",
          "text": "Epoch 60 Loss: 0.8047, Training Accuracy: 0.9963\n",
          "output_type": "stream"
        },
        {
          "name": "stderr",
          "text": "                                                                                            \r",
          "output_type": "stream"
        },
        {
          "name": "stdout",
          "text": "Epoch 61 Loss: 1.0113, Training Accuracy: 0.9959\n",
          "output_type": "stream"
        },
        {
          "name": "stderr",
          "text": "                                                                                            \r",
          "output_type": "stream"
        },
        {
          "name": "stdout",
          "text": "Epoch 62 Loss: 0.7224, Training Accuracy: 0.9981\n",
          "output_type": "stream"
        },
        {
          "name": "stderr",
          "text": "                                                                                            \r",
          "output_type": "stream"
        },
        {
          "name": "stdout",
          "text": "Epoch 63 Loss: 0.9705, Training Accuracy: 0.9948\n",
          "output_type": "stream"
        },
        {
          "name": "stderr",
          "text": "                                                                                            \r",
          "output_type": "stream"
        },
        {
          "name": "stdout",
          "text": "Epoch 64 Loss: 0.5617, Training Accuracy: 0.9989\n",
          "output_type": "stream"
        },
        {
          "name": "stderr",
          "text": "                                                                                            \r",
          "output_type": "stream"
        },
        {
          "name": "stdout",
          "text": "Epoch 65 Loss: 0.7398, Training Accuracy: 0.9963\nClassification Report:\n              precision    recall  f1-score   support\n\n          NV     0.6949    0.8750    0.7746      1096\n          PV     0.7658    0.3866    0.5139       719\n          DV     0.4982    0.6766    0.5738       201\n\n    accuracy                         0.6811      2016\n   macro avg     0.6530    0.6461    0.6208      2016\nweighted avg     0.7006    0.6811    0.6616      2016\n\n",
          "output_type": "stream"
        }
      ],
      "execution_count": null
    },
    {
      "cell_type": "code",
      "source": [],
      "metadata": {
        "trusted": true,
        "id": "DnAgmxQSmU9J"
      },
      "outputs": [],
      "execution_count": null
    },
    {
      "cell_type": "code",
      "source": [
        "import torch\n",
        "import torch.nn as nn\n",
        "import torch.optim as optim\n",
        "import pandas as pd\n",
        "import numpy as np\n",
        "import re\n",
        "from torch.utils.data import Dataset, DataLoader\n",
        "from transformers import AutoTokenizer, AutoModel\n",
        "from tqdm import tqdm\n",
        "from sklearn.metrics import accuracy_score, classification_report\n",
        "from nltk.corpus import stopwords\n",
        "import nltk\n",
        "\n",
        "# Download stopwords if not available\n",
        "nltk.download('stopwords')\n",
        "stop_words = set(stopwords.words('bengali'))\n",
        "\n",
        "# Load BanglaBERT Tokenizer\n",
        "tokenizer = AutoTokenizer.from_pretrained(\"csebuetnlp/banglabert\")\n",
        "\n",
        "# Load Dataset\n",
        "def load_data(file_path):\n",
        "    df = pd.read_csv(file_path)\n",
        "    df = df[['text', 'label']]\n",
        "    return df\n",
        "\n",
        "train_df = load_data(\"/kaggle/input/violencetext/train.csv\")\n",
        "dev_df = load_data(\"/kaggle/input/violencetext/dev.csv\")\n",
        "test_df = load_data(\"/kaggle/input/violencetext/test.csv\")\n",
        "\n",
        "# Text Preprocessing\n",
        "def preprocess_text(text):\n",
        "    text = text.lower()\n",
        "    text = re.sub(r'\\S+@\\S+', '[EMAIL]', text)  # Replace emails\n",
        "    text = re.sub(r'http\\S+|www\\S+', '[URL]', text)  # Replace URLs\n",
        "    text = re.sub(r'\\d+', '[NUMBER]', text)  # Replace numbers\n",
        "    text = re.sub(r'[^\\u0980-\\u09FF\\s]', '', text)  # Remove non-Bangla characters\n",
        "    text = ' '.join([word for word in text.split() if word not in stop_words])  # Remove stopwords\n",
        "    text = re.sub(r'\\s+', ' ', text).strip()  # Normalize whitespace\n",
        "    return text\n",
        "\n",
        "train_df[\"text\"] = train_df[\"text\"].apply(preprocess_text)\n",
        "dev_df[\"text\"] = dev_df[\"text\"].apply(preprocess_text)\n",
        "test_df[\"text\"] = test_df[\"text\"].apply(preprocess_text)\n",
        "\n",
        "# Dataset Class\n",
        "class TextDataset(Dataset):\n",
        "    def __init__(self, texts, labels, tokenizer, max_length=70):\n",
        "        self.texts = texts\n",
        "        self.labels = labels\n",
        "        self.tokenizer = tokenizer\n",
        "        self.max_length = max_length\n",
        "\n",
        "    def __len__(self):\n",
        "        return len(self.texts)\n",
        "\n",
        "    def __getitem__(self, idx):\n",
        "        text = self.texts[idx]\n",
        "        label = self.labels[idx]\n",
        "\n",
        "        encoding = self.tokenizer(\n",
        "            text,\n",
        "            padding=\"max_length\",\n",
        "            truncation=True,\n",
        "            max_length=self.max_length,\n",
        "            return_tensors=\"pt\"\n",
        "        )\n",
        "\n",
        "        return {\n",
        "            \"input_ids\": encoding[\"input_ids\"].squeeze(0),\n",
        "            \"attention_mask\": encoding[\"attention_mask\"].squeeze(0),\n",
        "            \"label\": torch.tensor(label, dtype=torch.long)\n",
        "        }\n",
        "\n",
        "# Prepare datasets\n",
        "train_dataset = TextDataset(train_df[\"text\"].tolist(), train_df[\"label\"].tolist(), tokenizer)\n",
        "dev_dataset = TextDataset(dev_df[\"text\"].tolist(), dev_df[\"label\"].tolist(), tokenizer)\n",
        "test_dataset = TextDataset(test_df[\"text\"].tolist(), test_df[\"label\"].tolist(), tokenizer)\n",
        "\n",
        "# Create DataLoaders\n",
        "batch_size = 64\n",
        "train_loader = DataLoader(train_dataset, batch_size=batch_size, shuffle=True)\n",
        "dev_loader = DataLoader(dev_dataset, batch_size=batch_size, shuffle=False)\n",
        "test_loader = DataLoader(test_dataset, batch_size=batch_size, shuffle=False)\n",
        "\n",
        "# Capsule Network Layer\n",
        "class CapsuleLayer(nn.Module):\n",
        "    def __init__(self, num_capsules, input_dim, output_dim, routing_iterations=1):\n",
        "        super(CapsuleLayer, self).__init__()\n",
        "        self.num_capsules = num_capsules\n",
        "        self.input_dim = input_dim\n",
        "        self.output_dim = output_dim\n",
        "        self.routing_iterations = routing_iterations\n",
        "        self.weights = nn.Parameter(torch.randn(num_capsules, input_dim, output_dim))\n",
        "\n",
        "    def forward(self, x):\n",
        "        x = x.unsqueeze(1).expand(-1, self.num_capsules, -1, -1)\n",
        "        u_hat = torch.matmul(x, self.weights)\n",
        "\n",
        "        b_ij = torch.zeros(u_hat.shape[0], self.num_capsules, u_hat.shape[2]).to(x.device)\n",
        "\n",
        "        for _ in range(self.routing_iterations):\n",
        "            c_ij = torch.nn.functional.softmax(b_ij, dim=1)\n",
        "            s_j = (c_ij.unsqueeze(-1) * u_hat).sum(dim=2)\n",
        "            v_j = self.squash(s_j)\n",
        "            b_ij = b_ij + (u_hat * v_j.unsqueeze(2)).sum(dim=-1)\n",
        "\n",
        "        return v_j\n",
        "\n",
        "    @staticmethod\n",
        "    def squash(tensor):\n",
        "        norm = (tensor ** 2).sum(dim=-1, keepdim=True)\n",
        "        scale = norm / (1 + norm)\n",
        "        return scale * tensor / torch.sqrt(norm + 1e-8)\n",
        "\n",
        "# Define CAPTAIN Model using BanglaBERT\n",
        "class CAPTAINModel(nn.Module):\n",
        "    def __init__(self, num_classes=3):\n",
        "        super(CAPTAINModel, self).__init__()\n",
        "        self.bert = AutoModel.from_pretrained(\"csebuetnlp/banglabert\")\n",
        "        self.capsule = CapsuleLayer(num_capsules=8, input_dim=768, output_dim=16)\n",
        "        self.flatten = nn.Flatten()\n",
        "        self.batch_norm = nn.BatchNorm1d(128)  # Batch Normalization\n",
        "        self.fc1 = nn.Linear(8 * 16, 128)\n",
        "        self.fc2 = nn.Linear(128, num_classes)\n",
        "        self.dropout = nn.Dropout(0.2)\n",
        "\n",
        "    def forward(self, input_ids, attention_mask):\n",
        "        bert_output = self.bert(input_ids=input_ids, attention_mask=attention_mask).last_hidden_state\n",
        "        caps_output = self.capsule(bert_output)\n",
        "        flat_output = self.flatten(caps_output)\n",
        "        x = self.batch_norm(torch.relu(self.fc1(flat_output)))\n",
        "        x = self.dropout(x)\n",
        "        logits = self.fc2(x)\n",
        "        return logits\n",
        "\n",
        "# Initialize Model\n",
        "device = torch.device(\"cuda\" if torch.cuda.is_available() else \"cpu\")\n",
        "model = CAPTAINModel().to(device)\n",
        "\n",
        "# Compute Class Weights\n",
        "class_counts = train_df['label'].value_counts().tolist()\n",
        "class_weights = torch.tensor(1.0 / np.array(class_counts), dtype=torch.float).to(device)\n",
        "\n",
        "# Define optimizer and loss function\n",
        "optimizer = optim.Adam(model.parameters(), lr=1e-5)  # Lower Learning Rate\n",
        "criterion = nn.CrossEntropyLoss(weight=class_weights)  # Weighted Loss\n",
        "\n",
        "# Training Loop with Progress Bar & Training Accuracy\n",
        "epochs = 30\n",
        "for epoch in range(epochs):\n",
        "    model.train()\n",
        "    total_loss = 0\n",
        "    correct, total = 0, 0  # Track training accuracy\n",
        "\n",
        "    progress_bar = tqdm(train_loader, desc=f\"Epoch {epoch+1}/{epochs}\", leave=False)\n",
        "\n",
        "    for batch in progress_bar:\n",
        "        input_ids, attention_mask, labels = batch[\"input_ids\"].to(device), batch[\"attention_mask\"].to(device), batch[\"label\"].to(device)\n",
        "\n",
        "        optimizer.zero_grad()\n",
        "        outputs = model(input_ids, attention_mask)\n",
        "\n",
        "        loss = criterion(outputs, labels)\n",
        "        loss.backward()\n",
        "        optimizer.step()\n",
        "\n",
        "        total_loss += loss.item()\n",
        "\n",
        "        # Calculate Training Accuracy\n",
        "        preds = torch.argmax(outputs, dim=1)\n",
        "        correct += (preds == labels).sum().item()\n",
        "        total += labels.size(0)\n",
        "        train_acc = correct / total\n",
        "\n",
        "        progress_bar.set_postfix(loss=total_loss / (total + 1), accuracy=f\"{train_acc:.4f}\")\n",
        "\n",
        "    print(f\"Epoch {epoch+1} Loss: {total_loss:.4f}, Training Accuracy: {train_acc:.4f}\")\n",
        "\n",
        "# Evaluation\n",
        "model.eval()\n",
        "predictions, true_labels = [], []\n",
        "with torch.no_grad():\n",
        "    for batch in test_loader:\n",
        "        input_ids, attention_mask, labels = batch[\"input_ids\"].to(device), batch[\"attention_mask\"].to(device), batch[\"label\"].to(device)\n",
        "\n",
        "        outputs = model(input_ids, attention_mask)\n",
        "        preds = torch.argmax(outputs, dim=1).cpu().numpy()\n",
        "        labels = labels.cpu().numpy()\n",
        "\n",
        "        predictions.extend(preds)\n",
        "        true_labels.extend(labels)\n",
        "\n",
        "# Classification Report\n",
        "print(\"Classification Report:\")\n",
        "print(classification_report(true_labels, predictions, target_names=[\"NV\", \"PV\", \"DV\"]))\n"
      ],
      "metadata": {
        "trusted": true,
        "execution": {
          "iopub.status.busy": "2025-02-10T03:35:23.294723Z",
          "iopub.execute_input": "2025-02-10T03:35:23.295067Z",
          "iopub.status.idle": "2025-02-10T03:53:03.828358Z",
          "shell.execute_reply.started": "2025-02-10T03:35:23.29504Z",
          "shell.execute_reply": "2025-02-10T03:53:03.827215Z"
        },
        "id": "UqbR0E_7mU9J",
        "outputId": "d12daab3-a9c9-4d1e-e7f0-107062a260c0"
      },
      "outputs": [
        {
          "name": "stdout",
          "text": "[nltk_data] Downloading package stopwords to /usr/share/nltk_data...\n[nltk_data]   Package stopwords is already up-to-date!\n",
          "output_type": "stream"
        },
        {
          "name": "stderr",
          "text": "                                                                                         \r",
          "output_type": "stream"
        },
        {
          "name": "stdout",
          "text": "Epoch 1 Loss: 46.1069, Training Accuracy: 0.4615\n",
          "output_type": "stream"
        },
        {
          "name": "stderr",
          "text": "                                                                                         \r",
          "output_type": "stream"
        },
        {
          "name": "stdout",
          "text": "Epoch 2 Loss: 36.2886, Training Accuracy: 0.6341\n",
          "output_type": "stream"
        },
        {
          "name": "stderr",
          "text": "                                                                                         \r",
          "output_type": "stream"
        },
        {
          "name": "stdout",
          "text": "Epoch 3 Loss: 30.5284, Training Accuracy: 0.6919\n",
          "output_type": "stream"
        },
        {
          "name": "stderr",
          "text": "                                                                                          \r",
          "output_type": "stream"
        },
        {
          "name": "stdout",
          "text": "Epoch 4 Loss: 25.7893, Training Accuracy: 0.7370\n",
          "output_type": "stream"
        },
        {
          "name": "stderr",
          "text": "                                                                                          \r",
          "output_type": "stream"
        },
        {
          "name": "stdout",
          "text": "Epoch 5 Loss: 21.8683, Training Accuracy: 0.7896\n",
          "output_type": "stream"
        },
        {
          "name": "stderr",
          "text": "                                                                                          \r",
          "output_type": "stream"
        },
        {
          "name": "stdout",
          "text": "Epoch 6 Loss: 18.8457, Training Accuracy: 0.8219\n",
          "output_type": "stream"
        },
        {
          "name": "stderr",
          "text": "                                                                                          \r",
          "output_type": "stream"
        },
        {
          "name": "stdout",
          "text": "Epoch 7 Loss: 16.4383, Training Accuracy: 0.8578\n",
          "output_type": "stream"
        },
        {
          "name": "stderr",
          "text": "                                                                                          \r",
          "output_type": "stream"
        },
        {
          "name": "stdout",
          "text": "Epoch 8 Loss: 13.1244, Training Accuracy: 0.8856\n",
          "output_type": "stream"
        },
        {
          "name": "stderr",
          "text": "                                                                                          \r",
          "output_type": "stream"
        },
        {
          "name": "stdout",
          "text": "Epoch 9 Loss: 10.6597, Training Accuracy: 0.9233\n",
          "output_type": "stream"
        },
        {
          "name": "stderr",
          "text": "                                                                                           \r",
          "output_type": "stream"
        },
        {
          "name": "stdout",
          "text": "Epoch 10 Loss: 8.9649, Training Accuracy: 0.9381\n",
          "output_type": "stream"
        },
        {
          "name": "stderr",
          "text": "                                                                                           \r",
          "output_type": "stream"
        },
        {
          "name": "stdout",
          "text": "Epoch 11 Loss: 7.0917, Training Accuracy: 0.9596\n",
          "output_type": "stream"
        },
        {
          "name": "stderr",
          "text": "                                                                                           \r",
          "output_type": "stream"
        },
        {
          "name": "stdout",
          "text": "Epoch 12 Loss: 5.9511, Training Accuracy: 0.9656\n",
          "output_type": "stream"
        },
        {
          "name": "stderr",
          "text": "                                                                                           \r",
          "output_type": "stream"
        },
        {
          "name": "stdout",
          "text": "Epoch 13 Loss: 4.7017, Training Accuracy: 0.9781\n",
          "output_type": "stream"
        },
        {
          "name": "stderr",
          "text": "                                                                                           \r",
          "output_type": "stream"
        },
        {
          "name": "stdout",
          "text": "Epoch 14 Loss: 3.9404, Training Accuracy: 0.9844\n",
          "output_type": "stream"
        },
        {
          "name": "stderr",
          "text": "                                                                                           \r",
          "output_type": "stream"
        },
        {
          "name": "stdout",
          "text": "Epoch 15 Loss: 3.9233, Training Accuracy: 0.9796\n",
          "output_type": "stream"
        },
        {
          "name": "stderr",
          "text": "                                                                                           \r",
          "output_type": "stream"
        },
        {
          "name": "stdout",
          "text": "Epoch 16 Loss: 3.1007, Training Accuracy: 0.9904\n",
          "output_type": "stream"
        },
        {
          "name": "stderr",
          "text": "                                                                                            \r",
          "output_type": "stream"
        },
        {
          "name": "stdout",
          "text": "Epoch 17 Loss: 2.4924, Training Accuracy: 0.9944\n",
          "output_type": "stream"
        },
        {
          "name": "stderr",
          "text": "                                                                                            \r",
          "output_type": "stream"
        },
        {
          "name": "stdout",
          "text": "Epoch 18 Loss: 2.3394, Training Accuracy: 0.9904\n",
          "output_type": "stream"
        },
        {
          "name": "stderr",
          "text": "                                                                                            \r",
          "output_type": "stream"
        },
        {
          "name": "stdout",
          "text": "Epoch 19 Loss: 1.9641, Training Accuracy: 0.9967\n",
          "output_type": "stream"
        },
        {
          "name": "stderr",
          "text": "                                                                                            \r",
          "output_type": "stream"
        },
        {
          "name": "stdout",
          "text": "Epoch 20 Loss: 1.9422, Training Accuracy: 0.9933\n",
          "output_type": "stream"
        },
        {
          "name": "stderr",
          "text": "                                                                                            \r",
          "output_type": "stream"
        },
        {
          "name": "stdout",
          "text": "Epoch 21 Loss: 1.8140, Training Accuracy: 0.9944\n",
          "output_type": "stream"
        },
        {
          "name": "stderr",
          "text": "                                                                                            \r",
          "output_type": "stream"
        },
        {
          "name": "stdout",
          "text": "Epoch 22 Loss: 1.6834, Training Accuracy: 0.9959\n",
          "output_type": "stream"
        },
        {
          "name": "stderr",
          "text": "                                                                                            \r",
          "output_type": "stream"
        },
        {
          "name": "stdout",
          "text": "Epoch 23 Loss: 1.5579, Training Accuracy: 0.9944\n",
          "output_type": "stream"
        },
        {
          "name": "stderr",
          "text": "                                                                                            \r",
          "output_type": "stream"
        },
        {
          "name": "stdout",
          "text": "Epoch 24 Loss: 1.3695, Training Accuracy: 0.9974\n",
          "output_type": "stream"
        },
        {
          "name": "stderr",
          "text": "                                                                                            \r",
          "output_type": "stream"
        },
        {
          "name": "stdout",
          "text": "Epoch 25 Loss: 1.3386, Training Accuracy: 0.9952\n",
          "output_type": "stream"
        },
        {
          "name": "stderr",
          "text": "                                                                                            \r",
          "output_type": "stream"
        },
        {
          "name": "stdout",
          "text": "Epoch 26 Loss: 1.4898, Training Accuracy: 0.9941\n",
          "output_type": "stream"
        },
        {
          "name": "stderr",
          "text": "                                                                                            \r",
          "output_type": "stream"
        },
        {
          "name": "stdout",
          "text": "Epoch 27 Loss: 1.1281, Training Accuracy: 0.9948\n",
          "output_type": "stream"
        },
        {
          "name": "stderr",
          "text": "                                                                                            \r",
          "output_type": "stream"
        },
        {
          "name": "stdout",
          "text": "Epoch 28 Loss: 1.1536, Training Accuracy: 0.9970\n",
          "output_type": "stream"
        },
        {
          "name": "stderr",
          "text": "                                                                                            \r",
          "output_type": "stream"
        },
        {
          "name": "stdout",
          "text": "Epoch 29 Loss: 0.9582, Training Accuracy: 0.9967\n",
          "output_type": "stream"
        },
        {
          "name": "stderr",
          "text": "                                                                                            \r",
          "output_type": "stream"
        },
        {
          "name": "stdout",
          "text": "Epoch 30 Loss: 1.0434, Training Accuracy: 0.9967\nClassification Report:\n              precision    recall  f1-score   support\n\n          NV       0.81      0.81      0.81      1096\n          PV       0.74      0.60      0.66       719\n          DV       0.42      0.69      0.52       201\n\n    accuracy                           0.72      2016\n   macro avg       0.65      0.70      0.66      2016\nweighted avg       0.74      0.72      0.73      2016\n\n",
          "output_type": "stream"
        }
      ],
      "execution_count": null
    },
    {
      "cell_type": "markdown",
      "source": [
        "# With BanglaBERT"
      ],
      "metadata": {
        "id": "e3A9jZBumU9J"
      }
    },
    {
      "cell_type": "code",
      "source": [
        "import torch\n",
        "import torch.nn as nn\n",
        "import torch.optim as optim\n",
        "import pandas as pd\n",
        "import numpy as np\n",
        "import re\n",
        "from torch.utils.data import Dataset, DataLoader\n",
        "from transformers import AutoTokenizer, AutoModel\n",
        "from tqdm import tqdm\n",
        "from sklearn.metrics import classification_report\n",
        "from nltk.corpus import stopwords\n",
        "import nltk\n",
        "from imblearn.over_sampling import RandomOverSampler\n",
        "\n",
        "# Download stopwords if not available\n",
        "nltk.download('stopwords')\n",
        "stop_words = set(stopwords.words('bengali'))\n",
        "\n",
        "# Load BanglaBERT Tokenizer\n",
        "tokenizer = AutoTokenizer.from_pretrained(\"csebuetnlp/banglabert\")\n",
        "\n",
        "# Load Dataset\n",
        "def load_data(file_path):\n",
        "    df = pd.read_csv(file_path)\n",
        "    df = df[['text', 'label']]\n",
        "    return df\n",
        "\n",
        "train_df = load_data(\"/kaggle/input/violencetext/train.csv\")\n",
        "dev_df = load_data(\"/kaggle/input/violencetext/dev.csv\")\n",
        "test_df = load_data(\"/kaggle/input/violencetext/test.csv\")\n",
        "\n",
        "# Text Preprocessing\n",
        "def preprocess_text(text):\n",
        "    text = text.lower()\n",
        "    text = re.sub(r'\\S+@\\S+', '[EMAIL]', text)  # Replace emails\n",
        "    text = re.sub(r'http\\S+|www\\S+', '[URL]', text)  # Replace URLs\n",
        "    text = re.sub(r'\\d+', '[NUMBER]', text)  # Replace numbers\n",
        "    text = re.sub(r'[^\\u0980-\\u09FF\\s]', '', text)  # Remove non-Bangla characters\n",
        "    text = ' '.join([word for word in text.split() if word not in stop_words])  # Remove stopwords\n",
        "    text = re.sub(r'\\s+', ' ', text).strip()  # Normalize whitespace\n",
        "    return text\n",
        "\n",
        "train_df[\"text\"] = train_df[\"text\"].apply(preprocess_text)\n",
        "dev_df[\"text\"] = dev_df[\"text\"].apply(preprocess_text)\n",
        "test_df[\"text\"] = test_df[\"text\"].apply(preprocess_text)\n",
        "\n",
        "# Oversampling using RandomOverSampler\n",
        "ros = RandomOverSampler(sampling_strategy='auto', random_state=42)\n",
        "X_resampled, y_resampled = ros.fit_resample(train_df[['text']], train_df['label'])\n",
        "train_df = pd.DataFrame({'text': X_resampled['text'], 'label': y_resampled})\n",
        "\n",
        "# Dataset Class\n",
        "class TextDataset(Dataset):\n",
        "    def __init__(self, texts, labels, tokenizer, max_length=70):\n",
        "        self.texts = texts\n",
        "        self.labels = labels\n",
        "        self.tokenizer = tokenizer\n",
        "        self.max_length = max_length\n",
        "\n",
        "    def __len__(self):\n",
        "        return len(self.texts)\n",
        "\n",
        "    def __getitem__(self, idx):\n",
        "        text = self.texts[idx]\n",
        "        label = self.labels[idx]\n",
        "\n",
        "        encoding = self.tokenizer(\n",
        "            text,\n",
        "            padding=\"max_length\",\n",
        "            truncation=True,\n",
        "            max_length=self.max_length,\n",
        "            return_tensors=\"pt\"\n",
        "        )\n",
        "\n",
        "        return {\n",
        "            \"input_ids\": encoding[\"input_ids\"].squeeze(0),\n",
        "            \"attention_mask\": encoding[\"attention_mask\"].squeeze(0),\n",
        "            \"label\": torch.tensor(label, dtype=torch.long)\n",
        "        }\n",
        "\n",
        "# Prepare datasets\n",
        "train_dataset = TextDataset(train_df[\"text\"].tolist(), train_df[\"label\"].tolist(), tokenizer)\n",
        "dev_dataset = TextDataset(dev_df[\"text\"].tolist(), dev_df[\"label\"].tolist(), tokenizer)\n",
        "test_dataset = TextDataset(test_df[\"text\"].tolist(), test_df[\"label\"].tolist(), tokenizer)\n",
        "\n",
        "# Create DataLoaders\n",
        "batch_size = 64\n",
        "train_loader = DataLoader(train_dataset, batch_size=batch_size, shuffle=True)\n",
        "dev_loader = DataLoader(dev_dataset, batch_size=batch_size, shuffle=False)\n",
        "test_loader = DataLoader(test_dataset, batch_size=batch_size, shuffle=False)\n",
        "\n",
        "# Model (Same as before)\n",
        "class CAPTAINModel(nn.Module):\n",
        "    def __init__(self, num_classes=3):\n",
        "        super(CAPTAINModel, self).__init__()\n",
        "        self.bert = AutoModel.from_pretrained(\"csebuetnlp/banglabert\")\n",
        "        self.fc1 = nn.Linear(768, 256)\n",
        "        self.fc2 = nn.Linear(256, num_classes)\n",
        "        self.dropout = nn.Dropout(0.3)\n",
        "\n",
        "    def forward(self, input_ids, attention_mask):\n",
        "        bert_output = self.bert(input_ids=input_ids, attention_mask=attention_mask).last_hidden_state\n",
        "        pooled_output = bert_output[:, 0, :]  # Use CLS token embedding as pooled output\n",
        "        x = self.dropout(torch.relu(self.fc1(pooled_output)))\n",
        "        logits = self.fc2(x)\n",
        "        return logits\n",
        "\n",
        "\n",
        "\n",
        "# Initialize Model\n",
        "device = torch.device(\"cuda\" if torch.cuda.is_available() else \"cpu\")\n",
        "model = CAPTAINModel().to(device)\n",
        "\n",
        "# Compute Class Weights\n",
        "class_counts = train_df['label'].value_counts().tolist()\n",
        "class_weights = torch.tensor(1.0 / np.array(class_counts), dtype=torch.float).to(device)\n",
        "\n",
        "# Define optimizer and loss function\n",
        "optimizer = optim.Adam(model.parameters(), lr=1e-5)\n",
        "criterion = nn.CrossEntropyLoss(weight=class_weights)\n",
        "\n",
        "# Training Loop with Oversampled Data\n",
        "epochs = 30\n",
        "for epoch in range(epochs):\n",
        "    model.train()\n",
        "    total_loss = 0\n",
        "    correct, total = 0, 0\n",
        "\n",
        "    progress_bar = tqdm(train_loader, desc=f\"Epoch {epoch+1}/{epochs}\", leave=False)\n",
        "\n",
        "    for batch in progress_bar:\n",
        "        input_ids, attention_mask, labels = batch[\"input_ids\"].to(device), batch[\"attention_mask\"].to(device), batch[\"label\"].to(device)\n",
        "\n",
        "        optimizer.zero_grad()\n",
        "        outputs = model(input_ids, attention_mask)\n",
        "\n",
        "        loss = criterion(outputs, labels)\n",
        "        loss.backward()\n",
        "        optimizer.step()\n",
        "\n",
        "        total_loss += loss.item()\n",
        "        preds = torch.argmax(outputs, dim=1)\n",
        "        correct += (preds == labels).sum().item()\n",
        "        total += labels.size(0)\n",
        "        train_acc = correct / total\n",
        "\n",
        "        progress_bar.set_postfix(loss=total_loss / (total + 1), accuracy=f\"{train_acc:.4f}\")\n",
        "\n",
        "    print(f\"Epoch {epoch+1} Loss: {total_loss:.4f}, Training Accuracy: {train_acc:.4f}\")\n",
        "\n",
        "# Evaluation\n",
        "model.eval()\n",
        "predictions, true_labels = [], []\n",
        "with torch.no_grad():\n",
        "    for batch in test_loader:\n",
        "        input_ids, attention_mask, labels = batch[\"input_ids\"].to(device), batch[\"attention_mask\"].to(device), batch[\"label\"].to(device)\n",
        "        outputs = model(input_ids, attention_mask)\n",
        "        preds = torch.argmax(outputs, dim=1).cpu().numpy()\n",
        "        labels = labels.cpu().numpy()\n",
        "        predictions.extend(preds)\n",
        "        true_labels.extend(labels)\n",
        "\n",
        "# Classification Report\n",
        "print(\"Classification Report:\")\n",
        "print(classification_report(true_labels, predictions, target_names=[\"NV\", \"PV\", \"DV\"]))\n"
      ],
      "metadata": {
        "trusted": true,
        "execution": {
          "iopub.status.busy": "2025-02-10T03:59:11.602734Z",
          "iopub.execute_input": "2025-02-10T03:59:11.60308Z",
          "iopub.status.idle": "2025-02-10T04:24:07.33176Z",
          "shell.execute_reply.started": "2025-02-10T03:59:11.603051Z",
          "shell.execute_reply": "2025-02-10T04:24:07.330704Z"
        },
        "id": "8psENcQNmU9J",
        "outputId": "96cf9dd6-aea2-43d2-fbec-a7975c9495b5"
      },
      "outputs": [
        {
          "name": "stdout",
          "text": "[nltk_data] Downloading package stopwords to /usr/share/nltk_data...\n[nltk_data]   Package stopwords is already up-to-date!\n",
          "output_type": "stream"
        },
        {
          "name": "stderr",
          "text": "                                                                                         \r",
          "output_type": "stream"
        },
        {
          "name": "stdout",
          "text": "Epoch 1 Loss: 69.2153, Training Accuracy: 0.4944\n",
          "output_type": "stream"
        },
        {
          "name": "stderr",
          "text": "                                                                                         \r",
          "output_type": "stream"
        },
        {
          "name": "stdout",
          "text": "Epoch 2 Loss: 48.1336, Training Accuracy: 0.7490\n",
          "output_type": "stream"
        },
        {
          "name": "stderr",
          "text": "                                                                                          \r",
          "output_type": "stream"
        },
        {
          "name": "stdout",
          "text": "Epoch 3 Loss: 31.5231, Training Accuracy: 0.8426\n",
          "output_type": "stream"
        },
        {
          "name": "stderr",
          "text": "                                                                                          \r",
          "output_type": "stream"
        },
        {
          "name": "stdout",
          "text": "Epoch 4 Loss: 21.4057, Training Accuracy: 0.9057\n",
          "output_type": "stream"
        },
        {
          "name": "stderr",
          "text": "                                                                                          \r",
          "output_type": "stream"
        },
        {
          "name": "stdout",
          "text": "Epoch 5 Loss: 15.8744, Training Accuracy: 0.9369\n",
          "output_type": "stream"
        },
        {
          "name": "stderr",
          "text": "                                                                                          \r",
          "output_type": "stream"
        },
        {
          "name": "stdout",
          "text": "Epoch 6 Loss: 12.3001, Training Accuracy: 0.9496\n",
          "output_type": "stream"
        },
        {
          "name": "stderr",
          "text": "                                                                                          \r",
          "output_type": "stream"
        },
        {
          "name": "stdout",
          "text": "Epoch 7 Loss: 8.9126, Training Accuracy: 0.9705\n",
          "output_type": "stream"
        },
        {
          "name": "stderr",
          "text": "                                                                                          \r",
          "output_type": "stream"
        },
        {
          "name": "stdout",
          "text": "Epoch 8 Loss: 7.3141, Training Accuracy: 0.9760\n",
          "output_type": "stream"
        },
        {
          "name": "stderr",
          "text": "                                                                                          \r",
          "output_type": "stream"
        },
        {
          "name": "stdout",
          "text": "Epoch 9 Loss: 6.2424, Training Accuracy: 0.9803\n",
          "output_type": "stream"
        },
        {
          "name": "stderr",
          "text": "                                                                                           \r",
          "output_type": "stream"
        },
        {
          "name": "stdout",
          "text": "Epoch 10 Loss: 5.9735, Training Accuracy: 0.9808\n",
          "output_type": "stream"
        },
        {
          "name": "stderr",
          "text": "                                                                                           \r",
          "output_type": "stream"
        },
        {
          "name": "stdout",
          "text": "Epoch 11 Loss: 4.9414, Training Accuracy: 0.9830\n",
          "output_type": "stream"
        },
        {
          "name": "stderr",
          "text": "                                                                                            \r",
          "output_type": "stream"
        },
        {
          "name": "stdout",
          "text": "Epoch 12 Loss: 4.3846, Training Accuracy: 0.9863\n",
          "output_type": "stream"
        },
        {
          "name": "stderr",
          "text": "                                                                                            \r",
          "output_type": "stream"
        },
        {
          "name": "stdout",
          "text": "Epoch 13 Loss: 3.6360, Training Accuracy: 0.9894\n",
          "output_type": "stream"
        },
        {
          "name": "stderr",
          "text": "                                                                                            \r",
          "output_type": "stream"
        },
        {
          "name": "stdout",
          "text": "Epoch 14 Loss: 3.5600, Training Accuracy: 0.9897\n",
          "output_type": "stream"
        },
        {
          "name": "stderr",
          "text": "                                                                                            \r",
          "output_type": "stream"
        },
        {
          "name": "stdout",
          "text": "Epoch 15 Loss: 2.8327, Training Accuracy: 0.9918\n",
          "output_type": "stream"
        },
        {
          "name": "stderr",
          "text": "                                                                                            \r",
          "output_type": "stream"
        },
        {
          "name": "stdout",
          "text": "Epoch 16 Loss: 2.6088, Training Accuracy: 0.9923\n",
          "output_type": "stream"
        },
        {
          "name": "stderr",
          "text": "                                                                                            \r",
          "output_type": "stream"
        },
        {
          "name": "stdout",
          "text": "Epoch 17 Loss: 2.5436, Training Accuracy: 0.9928\n",
          "output_type": "stream"
        },
        {
          "name": "stderr",
          "text": "                                                                                            \r",
          "output_type": "stream"
        },
        {
          "name": "stdout",
          "text": "Epoch 18 Loss: 2.3491, Training Accuracy: 0.9933\n",
          "output_type": "stream"
        },
        {
          "name": "stderr",
          "text": "                                                                                            \r",
          "output_type": "stream"
        },
        {
          "name": "stdout",
          "text": "Epoch 19 Loss: 2.0390, Training Accuracy: 0.9938\n",
          "output_type": "stream"
        },
        {
          "name": "stderr",
          "text": "                                                                                            \r",
          "output_type": "stream"
        },
        {
          "name": "stdout",
          "text": "Epoch 20 Loss: 2.0511, Training Accuracy: 0.9940\n",
          "output_type": "stream"
        },
        {
          "name": "stderr",
          "text": "                                                                                            \r",
          "output_type": "stream"
        },
        {
          "name": "stdout",
          "text": "Epoch 21 Loss: 2.1087, Training Accuracy: 0.9928\n",
          "output_type": "stream"
        },
        {
          "name": "stderr",
          "text": "                                                                                            \r",
          "output_type": "stream"
        },
        {
          "name": "stdout",
          "text": "Epoch 22 Loss: 2.0187, Training Accuracy: 0.9928\n",
          "output_type": "stream"
        },
        {
          "name": "stderr",
          "text": "                                                                                            \r",
          "output_type": "stream"
        },
        {
          "name": "stdout",
          "text": "Epoch 23 Loss: 1.6108, Training Accuracy: 0.9942\n",
          "output_type": "stream"
        },
        {
          "name": "stderr",
          "text": "                                                                                            \r",
          "output_type": "stream"
        },
        {
          "name": "stdout",
          "text": "Epoch 24 Loss: 1.5553, Training Accuracy: 0.9940\n",
          "output_type": "stream"
        },
        {
          "name": "stderr",
          "text": "                                                                                            \r",
          "output_type": "stream"
        },
        {
          "name": "stdout",
          "text": "Epoch 25 Loss: 1.6033, Training Accuracy: 0.9938\n",
          "output_type": "stream"
        },
        {
          "name": "stderr",
          "text": "                                                                                            \r",
          "output_type": "stream"
        },
        {
          "name": "stdout",
          "text": "Epoch 26 Loss: 1.2297, Training Accuracy: 0.9952\n",
          "output_type": "stream"
        },
        {
          "name": "stderr",
          "text": "                                                                                            \r",
          "output_type": "stream"
        },
        {
          "name": "stdout",
          "text": "Epoch 27 Loss: 1.4386, Training Accuracy: 0.9938\n",
          "output_type": "stream"
        },
        {
          "name": "stderr",
          "text": "                                                                                            \r",
          "output_type": "stream"
        },
        {
          "name": "stdout",
          "text": "Epoch 28 Loss: 1.4671, Training Accuracy: 0.9940\n",
          "output_type": "stream"
        },
        {
          "name": "stderr",
          "text": "                                                                                            \r",
          "output_type": "stream"
        },
        {
          "name": "stdout",
          "text": "Epoch 29 Loss: 2.0288, Training Accuracy: 0.9904\n",
          "output_type": "stream"
        },
        {
          "name": "stderr",
          "text": "                                                                                            \r",
          "output_type": "stream"
        },
        {
          "name": "stdout",
          "text": "Epoch 30 Loss: 1.0301, Training Accuracy: 0.9966\nClassification Report:\n              precision    recall  f1-score   support\n\n          NV       0.78      0.86      0.81      1096\n          PV       0.76      0.61      0.68       719\n          DV       0.50      0.54      0.52       201\n\n    accuracy                           0.74      2016\n   macro avg       0.68      0.67      0.67      2016\nweighted avg       0.74      0.74      0.74      2016\n\n",
          "output_type": "stream"
        }
      ],
      "execution_count": null
    },
    {
      "cell_type": "code",
      "source": [
        "import torch\n",
        "import torch.nn as nn\n",
        "import torch.optim as optim\n",
        "import pandas as pd\n",
        "import numpy as np\n",
        "import re\n",
        "from torch.utils.data import Dataset, DataLoader\n",
        "from transformers import AutoTokenizer, AutoModel\n",
        "from tqdm import tqdm\n",
        "from sklearn.metrics import classification_report\n",
        "from nltk.corpus import stopwords\n",
        "import nltk\n",
        "from imblearn.over_sampling import RandomOverSampler\n",
        "\n",
        "# Download stopwords if not available\n",
        "nltk.download('stopwords')\n",
        "stop_words = set(stopwords.words('bengali'))\n",
        "\n",
        "# Load BanglaBERT Tokenizer\n",
        "tokenizer = AutoTokenizer.from_pretrained(\"csebuetnlp/banglabert\")\n",
        "\n",
        "# Load Dataset\n",
        "def load_data(file_path):\n",
        "    df = pd.read_csv(file_path)\n",
        "    df = df[['text', 'label']]\n",
        "    return df\n",
        "\n",
        "train_df = load_data(\"/kaggle/input/violencetext/train.csv\")\n",
        "dev_df = load_data(\"/kaggle/input/violencetext/dev.csv\")\n",
        "test_df = load_data(\"/kaggle/input/violencetext/test.csv\")\n",
        "\n",
        "# Text Preprocessing\n",
        "def preprocess_text(text):\n",
        "    text = text.lower()\n",
        "    text = re.sub(r'\\S+@\\S+', '[EMAIL]', text)  # Replace emails\n",
        "    text = re.sub(r'http\\S+|www\\S+', '[URL]', text)  # Replace URLs\n",
        "    text = re.sub(r'\\d+', '[NUMBER]', text)  # Replace numbers\n",
        "    text = re.sub(r'[^\\u0980-\\u09FF\\s]', '', text)  # Remove non-Bangla characters\n",
        "    text = ' '.join([word for word in text.split() if word not in stop_words])  # Remove stopwords\n",
        "    text = re.sub(r'\\s+', ' ', text).strip()  # Normalize whitespace\n",
        "    return text\n",
        "\n",
        "train_df[\"text\"] = train_df[\"text\"].apply(preprocess_text)\n",
        "dev_df[\"text\"] = dev_df[\"text\"].apply(preprocess_text)\n",
        "test_df[\"text\"] = test_df[\"text\"].apply(preprocess_text)\n",
        "\n",
        "# Oversampling using RandomOverSampler for all datasets\n",
        "ros = RandomOverSampler(sampling_strategy='auto', random_state=42)\n",
        "\n",
        "train_df, train_labels = ros.fit_resample(train_df[['text']], train_df['label'])\n",
        "dev_df, dev_labels = ros.fit_resample(dev_df[['text']], dev_df['label'])\n",
        "test_df, test_labels = ros.fit_resample(test_df[['text']], test_df['label'])\n",
        "\n",
        "# Convert back to DataFrame\n",
        "train_df = pd.DataFrame({'text': train_df['text'], 'label': train_labels})\n",
        "dev_df = pd.DataFrame({'text': dev_df['text'], 'label': dev_labels})\n",
        "test_df = pd.DataFrame({'text': test_df['text'], 'label': test_labels})\n",
        "\n",
        "# Dataset Class\n",
        "class TextDataset(Dataset):\n",
        "    def __init__(self, texts, labels, tokenizer, max_length=100):\n",
        "        self.texts = texts\n",
        "        self.labels = labels\n",
        "        self.tokenizer = tokenizer\n",
        "        self.max_length = max_length\n",
        "\n",
        "    def __len__(self):\n",
        "        return len(self.texts)\n",
        "\n",
        "    def __getitem__(self, idx):\n",
        "        text = self.texts[idx]\n",
        "        label = self.labels[idx]\n",
        "        encoding = self.tokenizer(\n",
        "            text,\n",
        "            padding=\"max_length\",\n",
        "            truncation=True,\n",
        "            max_length=self.max_length,\n",
        "            return_tensors=\"pt\"\n",
        "        )\n",
        "        return {\n",
        "            \"input_ids\": encoding[\"input_ids\"].squeeze(0),\n",
        "            \"attention_mask\": encoding[\"attention_mask\"].squeeze(0),\n",
        "            \"label\": torch.tensor(label, dtype=torch.long)\n",
        "        }\n",
        "\n",
        "# Prepare datasets\n",
        "train_dataset = TextDataset(train_df[\"text\"].tolist(), train_df[\"label\"].tolist(), tokenizer)\n",
        "dev_dataset = TextDataset(dev_df[\"text\"].tolist(), dev_df[\"label\"].tolist(), tokenizer)\n",
        "test_dataset = TextDataset(test_df[\"text\"].tolist(), test_df[\"label\"].tolist(), tokenizer)\n",
        "\n",
        "# Create DataLoaders\n",
        "batch_size = 32\n",
        "train_loader = DataLoader(train_dataset, batch_size=batch_size, shuffle=True)\n",
        "dev_loader = DataLoader(dev_dataset, batch_size=batch_size, shuffle=False)\n",
        "test_loader = DataLoader(test_dataset, batch_size=batch_size, shuffle=False)\n",
        "\n",
        "# Enhanced Model Class\n",
        "class EnhancedBanglaBERT(nn.Module):\n",
        "    def __init__(self, num_classes=3):\n",
        "        super(EnhancedBanglaBERT, self).__init__()\n",
        "        self.bert = AutoModel.from_pretrained(\"csebuetnlp/banglabert\")\n",
        "        self.fc1 = nn.Linear(768, 512)\n",
        "        self.fc2 = nn.Linear(512, 256)\n",
        "        self.fc3 = nn.Linear(256, num_classes)\n",
        "        self.dropout = nn.Dropout(0.4)\n",
        "\n",
        "    def forward(self, input_ids, attention_mask):\n",
        "        bert_output = self.bert(input_ids=input_ids, attention_mask=attention_mask).last_hidden_state\n",
        "        pooled_output = bert_output[:, 0, :]  # Use CLS token embedding\n",
        "        x = self.dropout(torch.relu(self.fc1(pooled_output)))\n",
        "        x = self.dropout(torch.relu(self.fc2(x)))\n",
        "        logits = self.fc3(x)\n",
        "        return logits\n",
        "\n",
        "# Initialize Model\n",
        "device = torch.device(\"cuda\" if torch.cuda.is_available() else \"cpu\")\n",
        "model = EnhancedBanglaBERT().to(device)\n",
        "\n",
        "# Compute Class Weights\n",
        "class_counts = train_df['label'].value_counts().tolist()\n",
        "class_weights = torch.tensor(1.0 / np.array(class_counts), dtype=torch.float).to(device)\n",
        "\n",
        "# Define optimizer, loss function, and scheduler\n",
        "optimizer = optim.AdamW(model.parameters(), lr=3e-5, weight_decay=1e-4)\n",
        "criterion = nn.CrossEntropyLoss(weight=class_weights)\n",
        "scheduler = optim.lr_scheduler.StepLR(optimizer, step_size=10, gamma=0.5)\n",
        "\n",
        "# Training Loop with Oversampling\n",
        "epochs = 40\n",
        "for epoch in range(epochs):\n",
        "    model.train()\n",
        "    total_loss, correct, total = 0, 0, 0\n",
        "    progress_bar = tqdm(train_loader, desc=f\"Epoch {epoch+1}/{epochs}\", leave=False)\n",
        "    for batch in progress_bar:\n",
        "        input_ids, attention_mask, labels = batch[\"input_ids\"].to(device), batch[\"attention_mask\"].to(device), batch[\"label\"].to(device)\n",
        "        optimizer.zero_grad()\n",
        "        outputs = model(input_ids, attention_mask)\n",
        "        loss = criterion(outputs, labels)\n",
        "        loss.backward()\n",
        "        optimizer.step()\n",
        "        total_loss += loss.item()\n",
        "        preds = torch.argmax(outputs, dim=1)\n",
        "        correct += (preds == labels).sum().item()\n",
        "        total += labels.size(0)\n",
        "    scheduler.step()\n",
        "    print(f\"Epoch {epoch+1} Loss: {total_loss:.4f}, Training Accuracy: {correct/total:.4f}\")\n",
        "\n",
        "# Evaluation\n",
        "model.eval()\n",
        "predictions, true_labels = [], []\n",
        "with torch.no_grad():\n",
        "    for batch in test_loader:\n",
        "        input_ids, attention_mask, labels = batch[\"input_ids\"].to(device), batch[\"attention_mask\"].to(device), batch[\"label\"].to(device)\n",
        "        outputs = model(input_ids, attention_mask)\n",
        "        preds = torch.argmax(outputs, dim=1).cpu().numpy()\n",
        "        labels = labels.cpu().numpy()\n",
        "        predictions.extend(preds)\n",
        "        true_labels.extend(labels)\n",
        "\n",
        "print(\"Classification Report:\")\n",
        "print(classification_report(true_labels, predictions, target_names=[\"NV\", \"PV\", \"DV\"], digits=4))\n",
        "\n"
      ],
      "metadata": {
        "trusted": true,
        "id": "j6Svm12ImU9K"
      },
      "outputs": [],
      "execution_count": null
    },
    {
      "cell_type": "code",
      "source": [
        "import matplotlib.pyplot as plt\n",
        "import seaborn as sns\n",
        "from sklearn.metrics import confusion_matrix\n",
        "\n",
        "# Compute Confusion Matrix\n",
        "conf_matrix = confusion_matrix(true_labels, predictions)\n",
        "\n",
        "# Define Class Labels\n",
        "class_labels = [\"NV\", \"PV\", \"DV\"]\n",
        "\n",
        "# Plot the Confusion Matrix\n",
        "plt.figure(figsize=(6,5))\n",
        "sns.heatmap(conf_matrix, annot=True, fmt=\"d\", cmap=\"Blues\", xticklabels=class_labels, yticklabels=class_labels)\n",
        "\n",
        "plt.xlabel(\"Predicted Label\")\n",
        "plt.ylabel(\"True Label\")\n",
        "plt.title(\"Confusion Matrix\")\n",
        "plt.show()\n"
      ],
      "metadata": {
        "trusted": true,
        "execution": {
          "iopub.status.busy": "2025-02-10T04:24:18.168464Z",
          "iopub.execute_input": "2025-02-10T04:24:18.16877Z",
          "iopub.status.idle": "2025-02-10T04:24:18.35435Z",
          "shell.execute_reply.started": "2025-02-10T04:24:18.168746Z",
          "shell.execute_reply": "2025-02-10T04:24:18.353629Z"
        },
        "id": "aEYISWnlmU9K",
        "outputId": "b4cf324f-eea5-4635-894a-eb5cdbab034a"
      },
      "outputs": [
        {
          "output_type": "display_data",
          "data": {
            "text/plain": "<Figure size 600x500 with 2 Axes>",
            "image/png": "[encoded data removed]"
          },
          "metadata": {}
        }
      ],
      "execution_count": null
    },
    {
      "cell_type": "code",
      "source": [
        "from sklearn.metrics import roc_curve, auc, precision_recall_curve\n",
        "\n",
        "# Convert labels to one-hot encoding\n",
        "from sklearn.preprocessing import label_binarize\n",
        "\n",
        "num_classes = len(set(true_labels))  # Get the number of classes\n",
        "true_labels_one_hot = label_binarize(true_labels, classes=[0, 1, 2])  # Adjust class labels based on dataset\n",
        "predictions_one_hot = label_binarize(predictions, classes=[0, 1, 2])\n",
        "\n",
        "# ROC Curve\n",
        "plt.figure(figsize=(12,5))\n",
        "\n",
        "plt.subplot(1,2,1)  # First plot for ROC Curve\n",
        "for i in range(num_classes):\n",
        "    fpr, tpr, _ = roc_curve(true_labels_one_hot[:, i], predictions_one_hot[:, i])\n",
        "    roc_auc = auc(fpr, tpr)\n",
        "    plt.plot(fpr, tpr, label=f'Class {i} (AUC = {roc_auc:.2f})')\n",
        "\n",
        "plt.plot([0,1], [0,1], 'k--')  # Diagonal line\n",
        "plt.xlabel(\"False Positive Rate\")\n",
        "plt.ylabel(\"True Positive Rate\")\n",
        "plt.title(\"ROC Curve\")\n",
        "plt.legend()\n",
        "\n",
        "# Precision-Recall Curve\n",
        "plt.subplot(1,2,2)  # Second plot for Precision-Recall Curve\n",
        "for i in range(num_classes):\n",
        "    precision, recall, _ = precision_recall_curve(true_labels_one_hot[:, i], predictions_one_hot[:, i])\n",
        "    plt.plot(recall, precision, label=f'Class {i}')\n",
        "\n",
        "plt.xlabel(\"Recall\")\n",
        "plt.ylabel(\"Precision\")\n",
        "plt.title(\"Precision-Recall Curve\")\n",
        "plt.legend()\n",
        "\n",
        "plt.tight_layout()\n",
        "plt.show()\n"
      ],
      "metadata": {
        "trusted": true,
        "execution": {
          "iopub.status.busy": "2025-02-10T04:24:24.162007Z",
          "iopub.execute_input": "2025-02-10T04:24:24.162361Z",
          "iopub.status.idle": "2025-02-10T04:24:24.569984Z",
          "shell.execute_reply.started": "2025-02-10T04:24:24.162332Z",
          "shell.execute_reply": "2025-02-10T04:24:24.569074Z"
        },
        "id": "TDW8uCa9mU9K",
        "outputId": "ff317f70-9b0a-4bee-ff50-9c62ae9f55dd"
      },
      "outputs": [
        {
          "output_type": "display_data",
          "data": {
            "text/plain": "<Figure size 1200x500 with 2 Axes>",
            "image/png": "[encoded data removed]"
          },
          "metadata": {}
        }
      ],
      "execution_count": null
    },
    {
      "cell_type": "code",
      "source": [],
      "metadata": {
        "trusted": true,
        "id": "uYDheOv2mU9L"
      },
      "outputs": [],
      "execution_count": null
    },
    {
      "cell_type": "markdown",
      "source": [
        "# Modified _Violence"
      ],
      "metadata": {
        "id": "4_uEsG6QmU9L"
      }
    },
    {
      "cell_type": "code",
      "source": [
        "import torch\n",
        "import torch.nn as nn\n",
        "import torch.optim as optim\n",
        "import pandas as pd\n",
        "import numpy as np\n",
        "import re\n",
        "from torch.utils.data import Dataset, DataLoader\n",
        "from transformers import AutoTokenizer, AutoModel\n",
        "from tqdm import tqdm\n",
        "from sklearn.metrics import accuracy_score, classification_report\n",
        "from imblearn.over_sampling import RandomOverSampler  # Import RandomOverSampler\n",
        "import unicodedata\n",
        "\n",
        "# Load BanglaBERT Tokenizer\n",
        "tokenizer = AutoTokenizer.from_pretrained(\"csebuetnlp/banglabert\")\n",
        "\n",
        "# Load Dataset\n",
        "def load_data(file_path):\n",
        "    df = pd.read_csv(file_path)\n",
        "    df = df[['text', 'Target']]\n",
        "    return df\n",
        "\n",
        "train_df = load_data(\"/kaggle/input/mofied2/train_modified.csv\")\n",
        "dev_df = load_data(\"/kaggle/input/mofied2/dev_modified.csv\")\n",
        "test_df = load_data(\"/kaggle/input/mofied2/test_modified.csv\")\n",
        "\n",
        "\n",
        "# Check unique values in the Target column\n",
        "print(\"Unique labels in train dataset:\", train_df[\"Target\"].unique())\n",
        "print(\"Unique labels in dev dataset:\", dev_df[\"Target\"].unique())\n",
        "print(\"Unique labels in test dataset:\", test_df[\"Target\"].unique())\n",
        "\n",
        "# **Step 1: Apply Random Oversampling to Balance the Datasets**\n",
        "def oversample_dataset(df):\n",
        "    ros = RandomOverSampler(random_state=42)\n",
        "    texts, labels = df[\"text\"].values, df[\"Target\"].values\n",
        "    texts_resampled, labels_resampled = ros.fit_resample(texts.reshape(-1, 1), labels)\n",
        "\n",
        "    balanced_df = pd.DataFrame({\"text\": texts_resampled.flatten(), \"Target\": labels_resampled})\n",
        "    return balanced_df\n",
        "\n",
        "train_df = oversample_dataset(train_df)\n",
        "dev_df = oversample_dataset(dev_df)\n",
        "test_df = oversample_dataset(test_df)\n",
        "\n",
        "# **Step 2: Preprocessing Function**\n",
        "def preprocess_text(text):\n",
        "    text = unicodedata.normalize('NFKC', text)  # Normalize Unicode text\n",
        "    text = re.sub(r'[০-৯]', '[NUMBER]', text)  # Replace Bangla numbers\n",
        "    text = re.sub(r'http\\S+|www\\S+', '[URL]', text)  # Replace URLs\n",
        "    text = re.sub(r'[^\\u0980-\\u09FF\\s]', '', text)  # Remove non-Bangla characters\n",
        "    text = re.sub(r'\\s+', ' ', text).strip()  # Normalize whitespace\n",
        "    return text\n",
        "\n",
        "train_df[\"text\"] = train_df[\"text\"].apply(preprocess_text)\n",
        "dev_df[\"text\"] = dev_df[\"text\"].apply(preprocess_text)\n",
        "test_df[\"text\"] = test_df[\"text\"].apply(preprocess_text)\n",
        "\n",
        "# **Step 3: Define Dataset Class**\n",
        "class TextDataset(Dataset):\n",
        "    def __init__(self, texts, labels, tokenizer, max_length=70):\n",
        "        self.texts = texts\n",
        "        self.labels = list(map(int, labels))  # Convert labels to integers\n",
        "        self.tokenizer = tokenizer\n",
        "        self.max_length = max_length\n",
        "\n",
        "    def __len__(self):\n",
        "        return len(self.texts)\n",
        "\n",
        "    def __getitem__(self, idx):\n",
        "        text = self.texts[idx]\n",
        "        label = self.labels[idx]  # Ensure it's an integer\n",
        "\n",
        "        encoding = self.tokenizer(\n",
        "            text,\n",
        "            padding=\"max_length\",\n",
        "            truncation=True,\n",
        "            max_length=self.max_length,\n",
        "            return_tensors=\"pt\"\n",
        "        )\n",
        "\n",
        "        return {\n",
        "            \"input_ids\": encoding[\"input_ids\"].squeeze(0),\n",
        "            \"attention_mask\": encoding[\"attention_mask\"].squeeze(0),\n",
        "            \"label\": torch.tensor(label, dtype=torch.long)  # Now correctly an integer\n",
        "        }\n",
        "\n",
        "# Define label mapping\n",
        "label_mapping = {\"TO\": 0, \"TC\": 1, \"TI\": 2}\n",
        "\n",
        "# Convert categorical labels to numerical labels\n",
        "train_df[\"Target\"] = train_df[\"Target\"].map(label_mapping)\n",
        "dev_df[\"Target\"] = dev_df[\"Target\"].map(label_mapping)\n",
        "test_df[\"Target\"] = test_df[\"Target\"].map(label_mapping)\n",
        "\n",
        "# Prepare datasets\n",
        "train_dataset = TextDataset(train_df[\"text\"].tolist(), train_df[\"Target\"].tolist(), tokenizer)\n",
        "dev_dataset = TextDataset(dev_df[\"text\"].tolist(), dev_df[\"Target\"].tolist(), tokenizer)\n",
        "test_dataset = TextDataset(test_df[\"text\"].tolist(), test_df[\"Target\"].tolist(), tokenizer)\n",
        "\n",
        "# Create DataLoaders\n",
        "batch_size = 32\n",
        "train_loader = DataLoader(train_dataset, batch_size=batch_size, shuffle=True)\n",
        "dev_loader = DataLoader(dev_dataset, batch_size=batch_size, shuffle=False)\n",
        "test_loader = DataLoader(test_dataset, batch_size=batch_size, shuffle=False)\n",
        "\n",
        "# **Step 4: Capsule Network Layer**\n",
        "class CapsuleLayer(nn.Module):\n",
        "    def __init__(self, num_capsules, input_dim, output_dim, routing_iterations=3):\n",
        "        super(CapsuleLayer, self).__init__()\n",
        "        self.num_capsules = num_capsules\n",
        "        self.input_dim = input_dim\n",
        "        self.output_dim = output_dim\n",
        "        self.routing_iterations = routing_iterations\n",
        "        self.weights = nn.Parameter(torch.randn(num_capsules, input_dim, output_dim))\n",
        "\n",
        "    def forward(self, x):\n",
        "        x = x.unsqueeze(1).expand(-1, self.num_capsules, -1, -1)\n",
        "        u_hat = torch.matmul(x, self.weights)\n",
        "\n",
        "        b_ij = torch.zeros(u_hat.shape[0], self.num_capsules, u_hat.shape[2]).to(x.device)\n",
        "\n",
        "        for _ in range(self.routing_iterations):\n",
        "            c_ij = torch.nn.functional.softmax(b_ij, dim=1)\n",
        "            s_j = (c_ij.unsqueeze(-1) * u_hat).sum(dim=2)\n",
        "            v_j = self.squash(s_j)\n",
        "            b_ij = b_ij + (u_hat * v_j.unsqueeze(2)).sum(dim=-1)\n",
        "\n",
        "        return v_j\n",
        "\n",
        "    @staticmethod\n",
        "    def squash(tensor):\n",
        "        norm = (tensor ** 2).sum(dim=-1, keepdim=True)\n",
        "        scale = norm / (1 + norm)\n",
        "        return scale * tensor / torch.sqrt(norm + 1e-8)\n",
        "\n",
        "# **Step 5: Define CAPTAIN Model**\n",
        "class CAPTAINModel(nn.Module):\n",
        "    def __init__(self, num_classes=3):\n",
        "        super(CAPTAINModel, self).__init__()\n",
        "        self.bert = AutoModel.from_pretrained(\"csebuetnlp/banglabert\")\n",
        "        self.capsule = CapsuleLayer(num_capsules=8, input_dim=768, output_dim=16)\n",
        "        self.flatten = nn.Flatten()\n",
        "        self.fc1 = nn.Linear(8 * 16, 128)\n",
        "        self.fc2 = nn.Linear(128, num_classes)\n",
        "        self.batch_norm = nn.BatchNorm1d(128)\n",
        "        self.dropout = nn.Dropout(0.5)\n",
        "\n",
        "    def forward(self, input_ids, attention_mask):\n",
        "        bert_output = self.bert(input_ids=input_ids, attention_mask=attention_mask).last_hidden_state\n",
        "        caps_output = self.capsule(bert_output)\n",
        "        flat_output = self.flatten(caps_output)\n",
        "        x = self.batch_norm(torch.relu(self.fc1(flat_output)))\n",
        "        x = self.dropout(x)\n",
        "        logits = self.fc2(x)\n",
        "        return torch.nn.functional.log_softmax(logits, dim=1)\n",
        "\n",
        "# **Step 6: Training Setup**\n",
        "device = torch.device(\"cuda\" if torch.cuda.is_available() else \"cpu\")\n",
        "model = CAPTAINModel().to(device)\n",
        "\n",
        "optimizer = optim.AdamW(model.parameters(), lr=3e-5, weight_decay=1e-4)\n",
        "criterion = nn.CrossEntropyLoss()\n",
        "scheduler = torch.optim.lr_scheduler.StepLR(optimizer, step_size=5, gamma=0.7)\n",
        "\n",
        "# **Step 7: Training Loop**\n",
        "epochs = 40\n",
        "for epoch in range(epochs):\n",
        "    model.train()\n",
        "    total_loss, correct, total = 0, 0, 0\n",
        "\n",
        "    for batch in tqdm(train_loader, desc=f\"Epoch {epoch+1}/{epochs}\", leave=False):\n",
        "        input_ids, attention_mask, labels = batch[\"input_ids\"].to(device), batch[\"attention_mask\"].to(device), batch[\"label\"].to(device)\n",
        "\n",
        "        optimizer.zero_grad()\n",
        "        outputs = model(input_ids, attention_mask)\n",
        "\n",
        "        loss = criterion(outputs, labels)\n",
        "        loss.backward()\n",
        "        torch.nn.utils.clip_grad_norm_(model.parameters(), 1.0)\n",
        "        optimizer.step()\n",
        "\n",
        "        total_loss += loss.item()\n",
        "        correct += (outputs.argmax(1) == labels).sum().item()\n",
        "        total += labels.size(0)\n",
        "\n",
        "    scheduler.step()\n",
        "    print(f\"Epoch {epoch+1} Loss: {total_loss:.4f}, Accuracy: {correct/total:.4f}\")\n",
        "\n",
        "# **Step 8: Model Evaluation**\n",
        "model.eval()\n",
        "predictions, true_labels = [], []\n",
        "with torch.no_grad():\n",
        "    for batch in test_loader:\n",
        "        input_ids, attention_mask, labels = batch[\"input_ids\"].to(device), batch[\"attention_mask\"].to(device), batch[\"label\"].to(device)\n",
        "\n",
        "        outputs = model(input_ids, attention_mask)\n",
        "        preds = torch.argmax(outputs, dim=1).cpu().numpy()\n",
        "        labels = labels.cpu().numpy()\n",
        "\n",
        "        predictions.extend(preds)\n",
        "        true_labels.extend(labels)\n",
        "\n",
        "# **Print Classification Report with 4-digit Precision**\n",
        "print(\"Classification Report:\")\n",
        "print(classification_report(true_labels, predictions, digits=4))\n",
        "\n"
      ],
      "metadata": {
        "trusted": true,
        "execution": {
          "iopub.status.busy": "2025-02-11T14:46:27.722216Z",
          "iopub.execute_input": "2025-02-11T14:46:27.722562Z",
          "iopub.status.idle": "2025-02-11T15:17:07.42125Z",
          "shell.execute_reply.started": "2025-02-11T14:46:27.722537Z",
          "shell.execute_reply": "2025-02-11T15:17:07.420288Z"
        },
        "id": "obK4o4pYmU9L",
        "outputId": "60ed6ba8-a418-4579-dee3-0af2be62df02"
      },
      "outputs": [
        {
          "name": "stdout",
          "text": "Unique labels in train dataset: ['TO' 'TC' 'TI']\nUnique labels in dev dataset: ['TO' 'TI' 'TC']\nUnique labels in test dataset: ['TC' 'TI' 'TO']\n",
          "output_type": "stream"
        },
        {
          "name": "stderr",
          "text": "                                                             \r",
          "output_type": "stream"
        },
        {
          "name": "stdout",
          "text": "Epoch 1 Loss: 137.3742, Accuracy: 0.3615\n",
          "output_type": "stream"
        },
        {
          "name": "stderr",
          "text": "                                                             \r",
          "output_type": "stream"
        },
        {
          "name": "stdout",
          "text": "Epoch 2 Loss: 135.8928, Accuracy: 0.3671\n",
          "output_type": "stream"
        },
        {
          "name": "stderr",
          "text": "                                                             \r",
          "output_type": "stream"
        },
        {
          "name": "stdout",
          "text": "Epoch 3 Loss: 128.2564, Accuracy: 0.4066\n",
          "output_type": "stream"
        },
        {
          "name": "stderr",
          "text": "                                                             \r",
          "output_type": "stream"
        },
        {
          "name": "stdout",
          "text": "Epoch 4 Loss: 103.6621, Accuracy: 0.5618\n",
          "output_type": "stream"
        },
        {
          "name": "stderr",
          "text": "                                                             \r",
          "output_type": "stream"
        },
        {
          "name": "stdout",
          "text": "Epoch 5 Loss: 73.7428, Accuracy: 0.7214\n",
          "output_type": "stream"
        },
        {
          "name": "stderr",
          "text": "                                                             \r",
          "output_type": "stream"
        },
        {
          "name": "stdout",
          "text": "Epoch 6 Loss: 51.5773, Accuracy: 0.8243\n",
          "output_type": "stream"
        },
        {
          "name": "stderr",
          "text": "                                                             \r",
          "output_type": "stream"
        },
        {
          "name": "stdout",
          "text": "Epoch 7 Loss: 37.1262, Accuracy: 0.8838\n",
          "output_type": "stream"
        },
        {
          "name": "stderr",
          "text": "                                                             \r",
          "output_type": "stream"
        },
        {
          "name": "stdout",
          "text": "Epoch 8 Loss: 25.6427, Accuracy: 0.9292\n",
          "output_type": "stream"
        },
        {
          "name": "stderr",
          "text": "                                                             \r",
          "output_type": "stream"
        },
        {
          "name": "stdout",
          "text": "Epoch 9 Loss: 17.2867, Accuracy: 0.9524\n",
          "output_type": "stream"
        },
        {
          "name": "stderr",
          "text": "                                                              \r",
          "output_type": "stream"
        },
        {
          "name": "stdout",
          "text": "Epoch 10 Loss: 12.0133, Accuracy: 0.9718\n",
          "output_type": "stream"
        },
        {
          "name": "stderr",
          "text": "                                                              \r",
          "output_type": "stream"
        },
        {
          "name": "stdout",
          "text": "Epoch 11 Loss: 7.8526, Accuracy: 0.9834\n",
          "output_type": "stream"
        },
        {
          "name": "stderr",
          "text": "                                                              \r",
          "output_type": "stream"
        },
        {
          "name": "stdout",
          "text": "Epoch 12 Loss: 5.4010, Accuracy: 0.9895\n",
          "output_type": "stream"
        },
        {
          "name": "stderr",
          "text": "                                                              \r",
          "output_type": "stream"
        },
        {
          "name": "stdout",
          "text": "Epoch 13 Loss: 5.4072, Accuracy: 0.9881\n",
          "output_type": "stream"
        },
        {
          "name": "stderr",
          "text": "                                                              \r",
          "output_type": "stream"
        },
        {
          "name": "stdout",
          "text": "Epoch 14 Loss: 3.9906, Accuracy: 0.9923\n",
          "output_type": "stream"
        },
        {
          "name": "stderr",
          "text": "                                                              \r",
          "output_type": "stream"
        },
        {
          "name": "stdout",
          "text": "Epoch 15 Loss: 3.9876, Accuracy: 0.9923\n",
          "output_type": "stream"
        },
        {
          "name": "stderr",
          "text": "                                                              \r",
          "output_type": "stream"
        },
        {
          "name": "stdout",
          "text": "Epoch 16 Loss: 3.0102, Accuracy: 0.9947\n",
          "output_type": "stream"
        },
        {
          "name": "stderr",
          "text": "                                                              \r",
          "output_type": "stream"
        },
        {
          "name": "stdout",
          "text": "Epoch 17 Loss: 2.1915, Accuracy: 0.9964\n",
          "output_type": "stream"
        },
        {
          "name": "stderr",
          "text": "                                                              \r",
          "output_type": "stream"
        },
        {
          "name": "stdout",
          "text": "Epoch 18 Loss: 1.6246, Accuracy: 0.9975\n",
          "output_type": "stream"
        },
        {
          "name": "stderr",
          "text": "                                                              \r",
          "output_type": "stream"
        },
        {
          "name": "stdout",
          "text": "Epoch 19 Loss: 2.1889, Accuracy: 0.9961\n",
          "output_type": "stream"
        },
        {
          "name": "stderr",
          "text": "                                                              \r",
          "output_type": "stream"
        },
        {
          "name": "stdout",
          "text": "Epoch 20 Loss: 1.3973, Accuracy: 0.9975\n",
          "output_type": "stream"
        },
        {
          "name": "stderr",
          "text": "                                                              \r",
          "output_type": "stream"
        },
        {
          "name": "stdout",
          "text": "Epoch 21 Loss: 1.5089, Accuracy: 0.9981\n",
          "output_type": "stream"
        },
        {
          "name": "stderr",
          "text": "                                                              \r",
          "output_type": "stream"
        },
        {
          "name": "stdout",
          "text": "Epoch 22 Loss: 1.3412, Accuracy: 0.9981\n",
          "output_type": "stream"
        },
        {
          "name": "stderr",
          "text": "                                                              \r",
          "output_type": "stream"
        },
        {
          "name": "stdout",
          "text": "Epoch 23 Loss: 1.3400, Accuracy: 0.9978\n",
          "output_type": "stream"
        },
        {
          "name": "stderr",
          "text": "                                                              \r",
          "output_type": "stream"
        },
        {
          "name": "stdout",
          "text": "Epoch 24 Loss: 1.4415, Accuracy: 0.9972\n",
          "output_type": "stream"
        },
        {
          "name": "stderr",
          "text": "                                                              \r",
          "output_type": "stream"
        },
        {
          "name": "stdout",
          "text": "Epoch 25 Loss: 1.1729, Accuracy: 0.9986\n",
          "output_type": "stream"
        },
        {
          "name": "stderr",
          "text": "                                                              \r",
          "output_type": "stream"
        },
        {
          "name": "stdout",
          "text": "Epoch 26 Loss: 1.3257, Accuracy: 0.9978\n",
          "output_type": "stream"
        },
        {
          "name": "stderr",
          "text": "                                                              \r",
          "output_type": "stream"
        },
        {
          "name": "stdout",
          "text": "Epoch 27 Loss: 0.9421, Accuracy: 0.9983\n",
          "output_type": "stream"
        },
        {
          "name": "stderr",
          "text": "                                                              \r",
          "output_type": "stream"
        },
        {
          "name": "stdout",
          "text": "Epoch 28 Loss: 1.0580, Accuracy: 0.9986\n",
          "output_type": "stream"
        },
        {
          "name": "stderr",
          "text": "                                                              \r",
          "output_type": "stream"
        },
        {
          "name": "stdout",
          "text": "Epoch 29 Loss: 0.8606, Accuracy: 0.9983\n",
          "output_type": "stream"
        },
        {
          "name": "stderr",
          "text": "                                                              \r",
          "output_type": "stream"
        },
        {
          "name": "stdout",
          "text": "Epoch 30 Loss: 1.2510, Accuracy: 0.9981\n",
          "output_type": "stream"
        },
        {
          "name": "stderr",
          "text": "                                                              \r",
          "output_type": "stream"
        },
        {
          "name": "stdout",
          "text": "Epoch 31 Loss: 1.0162, Accuracy: 0.9978\n",
          "output_type": "stream"
        },
        {
          "name": "stderr",
          "text": "                                                              \r",
          "output_type": "stream"
        },
        {
          "name": "stdout",
          "text": "Epoch 32 Loss: 0.9940, Accuracy: 0.9983\n",
          "output_type": "stream"
        },
        {
          "name": "stderr",
          "text": "                                                              \r",
          "output_type": "stream"
        },
        {
          "name": "stdout",
          "text": "Epoch 33 Loss: 0.9209, Accuracy: 0.9986\n",
          "output_type": "stream"
        },
        {
          "name": "stderr",
          "text": "                                                              \r",
          "output_type": "stream"
        },
        {
          "name": "stdout",
          "text": "Epoch 34 Loss: 1.0261, Accuracy: 0.9983\n",
          "output_type": "stream"
        },
        {
          "name": "stderr",
          "text": "                                                              \r",
          "output_type": "stream"
        },
        {
          "name": "stdout",
          "text": "Epoch 35 Loss: 1.0552, Accuracy: 0.9975\n",
          "output_type": "stream"
        },
        {
          "name": "stderr",
          "text": "                                                              \r",
          "output_type": "stream"
        },
        {
          "name": "stdout",
          "text": "Epoch 36 Loss: 0.9158, Accuracy: 0.9983\n",
          "output_type": "stream"
        },
        {
          "name": "stderr",
          "text": "                                                              \r",
          "output_type": "stream"
        },
        {
          "name": "stdout",
          "text": "Epoch 37 Loss: 1.0888, Accuracy: 0.9981\n",
          "output_type": "stream"
        },
        {
          "name": "stderr",
          "text": "                                                              \r",
          "output_type": "stream"
        },
        {
          "name": "stdout",
          "text": "Epoch 38 Loss: 0.9807, Accuracy: 0.9981\n",
          "output_type": "stream"
        },
        {
          "name": "stderr",
          "text": "                                                              \r",
          "output_type": "stream"
        },
        {
          "name": "stdout",
          "text": "Epoch 39 Loss: 0.7469, Accuracy: 0.9989\n",
          "output_type": "stream"
        },
        {
          "name": "stderr",
          "text": "                                                              \r",
          "output_type": "stream"
        },
        {
          "name": "stdout",
          "text": "Epoch 40 Loss: 0.7708, Accuracy: 0.9994\nClassification Report:\n              precision    recall  f1-score   support\n\n           0     0.8048    0.6226    0.7020      1073\n           1     0.5634    0.8816    0.6875      1073\n           2     0.8507    0.5629    0.6775      1073\n\n    accuracy                         0.6890      3219\n   macro avg     0.7397    0.6890    0.6890      3219\nweighted avg     0.7397    0.6890    0.6890      3219\n\n",
          "output_type": "stream"
        }
      ],
      "execution_count": null
    },
    {
      "cell_type": "code",
      "source": [
        "import matplotlib.pyplot as plt\n",
        "import seaborn as sns\n",
        "from sklearn.metrics import confusion_matrix\n",
        "\n",
        "# Compute the confusion matrix\n",
        "cm = confusion_matrix(true_labels, predictions)\n",
        "\n",
        "# Define class labels (Ensure this matches your dataset's label mapping)\n",
        "class_labels = [\"TO\", \"TC\", \"TI\"]  # Replace with actual class names if different\n",
        "\n",
        "# Plot confusion matrix\n",
        "plt.figure(figsize=(6, 5))\n",
        "sns.heatmap(cm, annot=True, fmt=\"d\", cmap=\"Blues\", xticklabels=class_labels, yticklabels=class_labels)\n",
        "\n",
        "# Labels and title\n",
        "plt.xlabel(\"Predicted Label\")\n",
        "plt.ylabel(\"True Label\")\n",
        "plt.title(\"Confusion Matrix\")\n",
        "plt.show()\n"
      ],
      "metadata": {
        "trusted": true,
        "execution": {
          "iopub.status.busy": "2025-02-11T15:18:39.601106Z",
          "iopub.execute_input": "2025-02-11T15:18:39.601567Z",
          "iopub.status.idle": "2025-02-11T15:18:39.836049Z",
          "shell.execute_reply.started": "2025-02-11T15:18:39.601528Z",
          "shell.execute_reply": "2025-02-11T15:18:39.835232Z"
        },
        "id": "nSR02w1emU9L",
        "outputId": "37756847-b4a9-4e13-b1dd-4379f5900afb"
      },
      "outputs": [
        {
          "output_type": "display_data",
          "data": {
            "text/plain": "<Figure size 600x500 with 2 Axes>",
            "image/png": "[encoded data removed]"
          },
          "metadata": {}
        }
      ],
      "execution_count": null
    },
    {
      "cell_type": "code",
      "source": [
        "# Model Evaluation\n",
        "model.eval()\n",
        "predictions, true_labels, all_probs = [], [], []\n",
        "\n",
        "with torch.no_grad():\n",
        "    for batch in test_loader:\n",
        "        input_ids, attention_mask, labels = batch[\"input_ids\"].to(device), batch[\"attention_mask\"].to(device), batch[\"label\"].to(device)\n",
        "\n",
        "        outputs = model(input_ids, attention_mask)\n",
        "        preds = torch.argmax(outputs, dim=1).cpu().numpy()\n",
        "        labels = labels.cpu().numpy()\n",
        "        probs = torch.exp(outputs).cpu().numpy()  # Convert log-softmax to probabilities\n",
        "\n",
        "        predictions.extend(preds)\n",
        "        true_labels.extend(labels)\n",
        "        all_probs.extend(probs)  # Collect all probability values\n",
        "\n",
        "# Convert to numpy arrays\n",
        "true_labels = np.array(true_labels)\n",
        "predicted_probs = np.array(all_probs)  # Ensure probabilities are collected properly\n",
        "\n",
        "\n",
        "\n",
        "\n",
        "from sklearn.metrics import roc_curve, auc, precision_recall_curve, average_precision_score\n",
        "import matplotlib.pyplot as plt\n",
        "\n",
        "# Define class labels\n",
        "class_labels = [\"TO\", \"TC\", \"TI\"]\n",
        "\n",
        "# Plot ROC Curve for each class\n",
        "plt.figure(figsize=(10, 5))\n",
        "\n",
        "for i in range(len(class_labels)):\n",
        "    fpr, tpr, _ = roc_curve((true_labels == i).astype(int), predicted_probs[:, i])\n",
        "    roc_auc = auc(fpr, tpr)\n",
        "    plt.plot(fpr, tpr, label=f\"Class {class_labels[i]} (AUC = {roc_auc:.2f})\")\n",
        "\n",
        "plt.plot([0, 1], [0, 1], \"k--\")  # Diagonal line\n",
        "plt.xlabel(\"False Positive Rate\")\n",
        "plt.ylabel(\"True Positive Rate\")\n",
        "plt.title(\"ROC Curve\")\n",
        "plt.legend()\n",
        "plt.show()\n",
        "\n",
        "# Plot Precision-Recall Curve\n",
        "plt.figure(figsize=(10, 5))\n",
        "\n",
        "for i in range(len(class_labels)):\n",
        "    precision, recall, _ = precision_recall_curve((true_labels == i).astype(int), predicted_probs[:, i])\n",
        "    avg_precision = average_precision_score((true_labels == i).astype(int), predicted_probs[:, i])\n",
        "    plt.plot(recall, precision, label=f\"Class {class_labels[i]} (AP = {avg_precision:.2f})\")\n",
        "\n",
        "plt.xlabel(\"Recall\")\n",
        "plt.ylabel(\"Precision\")\n",
        "plt.title(\"Precision-Recall Curve\")\n",
        "plt.legend()\n",
        "plt.show()\n"
      ],
      "metadata": {
        "trusted": true,
        "execution": {
          "iopub.status.busy": "2025-02-11T15:18:43.831695Z",
          "iopub.execute_input": "2025-02-11T15:18:43.832024Z",
          "iopub.status.idle": "2025-02-11T15:18:56.65606Z",
          "shell.execute_reply.started": "2025-02-11T15:18:43.831999Z",
          "shell.execute_reply": "2025-02-11T15:18:56.65522Z"
        },
        "id": "vG6kxSfWmU9M",
        "outputId": "5eab83c0-34e0-4829-980b-7f4648301a79"
      },
      "outputs": [
        {
          "output_type": "display_data",
          "data": {
            "text/plain": "<Figure size 1000x500 with 1 Axes>",
            "image/png": "[encoded data removed]"
          },
          "metadata": {}
        },
        {
          "output_type": "display_data",
          "data": {
            "text/plain": "<Figure size 1000x500 with 1 Axes>",
            "image/png": "[encoded data removed]"
          },
          "metadata": {}
        }
      ],
      "execution_count": null
    },
    {
      "cell_type": "code",
      "source": [],
      "metadata": {
        "trusted": true,
        "id": "tZfOKz4UmU9M"
      },
      "outputs": [],
      "execution_count": null
    },
    {
      "cell_type": "code",
      "source": [],
      "metadata": {
        "trusted": true,
        "id": "clhDLPWamU9M"
      },
      "outputs": [],
      "execution_count": null
    }
  ]
}